{
  "nbformat": 4,
  "nbformat_minor": 0,
  "metadata": {
    "colab": {
      "name": "Basic_Classification_Models.ipynb",
      "version": "0.3.2",
      "provenance": [],
      "collapsed_sections": []
    },
    "kernelspec": {
      "name": "python3",
      "display_name": "Python 3"
    }
  },
  "cells": [
    {
      "cell_type": "code",
      "metadata": {
        "id": "ayPZ-NgKpOmi",
        "colab_type": "code",
        "colab": {}
      },
      "source": [
        "# In this notebook, we practice some of the well-known classification methods.\n",
        "# We load a dataset using Pandas library, and apply the following algorithms, and find the best one for this specific dataset by accuracy evaluation methods.\n",
        "# Lets first load required libraries:\n",
        "\n",
        "import numpy as np\n",
        "import matplotlib.pyplot as plt\n",
        "import pandas as pd\n",
        "from sklearn import preprocessing\n",
        "import seaborn as sns\n",
        "%matplotlib inline"
      ],
      "execution_count": 0,
      "outputs": []
    },
    {
      "cell_type": "code",
      "metadata": {
        "id": "hoSV1CUFr9hC",
        "colab_type": "code",
        "outputId": "9b369688-ac83-4c7b-8359-fb8febd2e79e",
        "colab": {
          "base_uri": "https://localhost:8080/",
          "height": 204
        }
      },
      "source": [
        "# ### About dataset\n",
        "\n",
        "# This dataset is about past loans. The __Loan_train.csv__ data set includes details of 346 customers whose loan are already paid off or defaulted. It includes following fields:\n",
        "# \n",
        "# | Field          | Description                                                                           |\n",
        "# |----------------|---------------------------------------------------------------------------------------|\n",
        "# | Loan_status    | Whether a loan is paid off on in collection                                           |\n",
        "# | Principal      | Basic principal loan amount at the                                                    |\n",
        "# | Terms          | Origination terms which can be weekly (7 days), biweekly, and monthly payoff schedule |\n",
        "# | Effective_date | When the loan got originated and took effects                                         |\n",
        "# | Due_date       | Since it’s one-time payoff schedule, each loan has one single due date                |\n",
        "# | Age            | Age of applicant                                                                      |\n",
        "# | Education      | Education of applicant                                                                |\n",
        "# | Gender         | The gender of applicant                                                               |\n",
        "\n",
        "# Let's download the dataset:\n",
        "\n",
        "path_train = \"https://s3-api.us-geo.objectstorage.softlayer.net/cf-courses-data/CognitiveClass/ML0101ENv3/labs/loan_train.csv\"\n",
        "df_train = pd.read_csv(path_train)\n",
        "df_train.head()"
      ],
      "execution_count": 2,
      "outputs": [
        {
          "output_type": "execute_result",
          "data": {
            "text/html": [
              "<div>\n",
              "<style scoped>\n",
              "    .dataframe tbody tr th:only-of-type {\n",
              "        vertical-align: middle;\n",
              "    }\n",
              "\n",
              "    .dataframe tbody tr th {\n",
              "        vertical-align: top;\n",
              "    }\n",
              "\n",
              "    .dataframe thead th {\n",
              "        text-align: right;\n",
              "    }\n",
              "</style>\n",
              "<table border=\"1\" class=\"dataframe\">\n",
              "  <thead>\n",
              "    <tr style=\"text-align: right;\">\n",
              "      <th></th>\n",
              "      <th>Unnamed: 0</th>\n",
              "      <th>Unnamed: 0.1</th>\n",
              "      <th>loan_status</th>\n",
              "      <th>Principal</th>\n",
              "      <th>terms</th>\n",
              "      <th>effective_date</th>\n",
              "      <th>due_date</th>\n",
              "      <th>age</th>\n",
              "      <th>education</th>\n",
              "      <th>Gender</th>\n",
              "    </tr>\n",
              "  </thead>\n",
              "  <tbody>\n",
              "    <tr>\n",
              "      <th>0</th>\n",
              "      <td>0</td>\n",
              "      <td>0</td>\n",
              "      <td>PAIDOFF</td>\n",
              "      <td>1000</td>\n",
              "      <td>30</td>\n",
              "      <td>9/8/2016</td>\n",
              "      <td>10/7/2016</td>\n",
              "      <td>45</td>\n",
              "      <td>High School or Below</td>\n",
              "      <td>male</td>\n",
              "    </tr>\n",
              "    <tr>\n",
              "      <th>1</th>\n",
              "      <td>2</td>\n",
              "      <td>2</td>\n",
              "      <td>PAIDOFF</td>\n",
              "      <td>1000</td>\n",
              "      <td>30</td>\n",
              "      <td>9/8/2016</td>\n",
              "      <td>10/7/2016</td>\n",
              "      <td>33</td>\n",
              "      <td>Bechalor</td>\n",
              "      <td>female</td>\n",
              "    </tr>\n",
              "    <tr>\n",
              "      <th>2</th>\n",
              "      <td>3</td>\n",
              "      <td>3</td>\n",
              "      <td>PAIDOFF</td>\n",
              "      <td>1000</td>\n",
              "      <td>15</td>\n",
              "      <td>9/8/2016</td>\n",
              "      <td>9/22/2016</td>\n",
              "      <td>27</td>\n",
              "      <td>college</td>\n",
              "      <td>male</td>\n",
              "    </tr>\n",
              "    <tr>\n",
              "      <th>3</th>\n",
              "      <td>4</td>\n",
              "      <td>4</td>\n",
              "      <td>PAIDOFF</td>\n",
              "      <td>1000</td>\n",
              "      <td>30</td>\n",
              "      <td>9/9/2016</td>\n",
              "      <td>10/8/2016</td>\n",
              "      <td>28</td>\n",
              "      <td>college</td>\n",
              "      <td>female</td>\n",
              "    </tr>\n",
              "    <tr>\n",
              "      <th>4</th>\n",
              "      <td>6</td>\n",
              "      <td>6</td>\n",
              "      <td>PAIDOFF</td>\n",
              "      <td>1000</td>\n",
              "      <td>30</td>\n",
              "      <td>9/9/2016</td>\n",
              "      <td>10/8/2016</td>\n",
              "      <td>29</td>\n",
              "      <td>college</td>\n",
              "      <td>male</td>\n",
              "    </tr>\n",
              "  </tbody>\n",
              "</table>\n",
              "</div>"
            ],
            "text/plain": [
              "   Unnamed: 0  Unnamed: 0.1 loan_status  Principal  terms effective_date  \\\n",
              "0           0             0     PAIDOFF       1000     30       9/8/2016   \n",
              "1           2             2     PAIDOFF       1000     30       9/8/2016   \n",
              "2           3             3     PAIDOFF       1000     15       9/8/2016   \n",
              "3           4             4     PAIDOFF       1000     30       9/9/2016   \n",
              "4           6             6     PAIDOFF       1000     30       9/9/2016   \n",
              "\n",
              "    due_date  age             education  Gender  \n",
              "0  10/7/2016   45  High School or Below    male  \n",
              "1  10/7/2016   33              Bechalor  female  \n",
              "2  9/22/2016   27               college    male  \n",
              "3  10/8/2016   28               college  female  \n",
              "4  10/8/2016   29               college    male  "
            ]
          },
          "metadata": {
            "tags": []
          },
          "execution_count": 2
        }
      ]
    },
    {
      "cell_type": "code",
      "metadata": {
        "id": "QfWJ1TLazrpC",
        "colab_type": "code",
        "outputId": "ae8aad05-6b46-4893-cbd7-e5f12f456573",
        "colab": {
          "base_uri": "https://localhost:8080/",
          "height": 204
        }
      },
      "source": [
        "# We can drop the first two columns from the dataframe.\n",
        "\n",
        "df_train.drop([\"Unnamed: 0\", \"Unnamed: 0.1\"], axis=1, inplace=True)\n",
        "df_train.head()"
      ],
      "execution_count": 3,
      "outputs": [
        {
          "output_type": "execute_result",
          "data": {
            "text/html": [
              "<div>\n",
              "<style scoped>\n",
              "    .dataframe tbody tr th:only-of-type {\n",
              "        vertical-align: middle;\n",
              "    }\n",
              "\n",
              "    .dataframe tbody tr th {\n",
              "        vertical-align: top;\n",
              "    }\n",
              "\n",
              "    .dataframe thead th {\n",
              "        text-align: right;\n",
              "    }\n",
              "</style>\n",
              "<table border=\"1\" class=\"dataframe\">\n",
              "  <thead>\n",
              "    <tr style=\"text-align: right;\">\n",
              "      <th></th>\n",
              "      <th>loan_status</th>\n",
              "      <th>Principal</th>\n",
              "      <th>terms</th>\n",
              "      <th>effective_date</th>\n",
              "      <th>due_date</th>\n",
              "      <th>age</th>\n",
              "      <th>education</th>\n",
              "      <th>Gender</th>\n",
              "    </tr>\n",
              "  </thead>\n",
              "  <tbody>\n",
              "    <tr>\n",
              "      <th>0</th>\n",
              "      <td>PAIDOFF</td>\n",
              "      <td>1000</td>\n",
              "      <td>30</td>\n",
              "      <td>9/8/2016</td>\n",
              "      <td>10/7/2016</td>\n",
              "      <td>45</td>\n",
              "      <td>High School or Below</td>\n",
              "      <td>male</td>\n",
              "    </tr>\n",
              "    <tr>\n",
              "      <th>1</th>\n",
              "      <td>PAIDOFF</td>\n",
              "      <td>1000</td>\n",
              "      <td>30</td>\n",
              "      <td>9/8/2016</td>\n",
              "      <td>10/7/2016</td>\n",
              "      <td>33</td>\n",
              "      <td>Bechalor</td>\n",
              "      <td>female</td>\n",
              "    </tr>\n",
              "    <tr>\n",
              "      <th>2</th>\n",
              "      <td>PAIDOFF</td>\n",
              "      <td>1000</td>\n",
              "      <td>15</td>\n",
              "      <td>9/8/2016</td>\n",
              "      <td>9/22/2016</td>\n",
              "      <td>27</td>\n",
              "      <td>college</td>\n",
              "      <td>male</td>\n",
              "    </tr>\n",
              "    <tr>\n",
              "      <th>3</th>\n",
              "      <td>PAIDOFF</td>\n",
              "      <td>1000</td>\n",
              "      <td>30</td>\n",
              "      <td>9/9/2016</td>\n",
              "      <td>10/8/2016</td>\n",
              "      <td>28</td>\n",
              "      <td>college</td>\n",
              "      <td>female</td>\n",
              "    </tr>\n",
              "    <tr>\n",
              "      <th>4</th>\n",
              "      <td>PAIDOFF</td>\n",
              "      <td>1000</td>\n",
              "      <td>30</td>\n",
              "      <td>9/9/2016</td>\n",
              "      <td>10/8/2016</td>\n",
              "      <td>29</td>\n",
              "      <td>college</td>\n",
              "      <td>male</td>\n",
              "    </tr>\n",
              "  </tbody>\n",
              "</table>\n",
              "</div>"
            ],
            "text/plain": [
              "  loan_status  Principal  terms effective_date   due_date  age  \\\n",
              "0     PAIDOFF       1000     30       9/8/2016  10/7/2016   45   \n",
              "1     PAIDOFF       1000     30       9/8/2016  10/7/2016   33   \n",
              "2     PAIDOFF       1000     15       9/8/2016  9/22/2016   27   \n",
              "3     PAIDOFF       1000     30       9/9/2016  10/8/2016   28   \n",
              "4     PAIDOFF       1000     30       9/9/2016  10/8/2016   29   \n",
              "\n",
              "              education  Gender  \n",
              "0  High School or Below    male  \n",
              "1              Bechalor  female  \n",
              "2               college    male  \n",
              "3               college  female  \n",
              "4               college    male  "
            ]
          },
          "metadata": {
            "tags": []
          },
          "execution_count": 3
        }
      ]
    },
    {
      "cell_type": "code",
      "metadata": {
        "id": "llv8Yr2L1rHX",
        "colab_type": "code",
        "outputId": "f046fe65-5055-436d-af0b-310ba7ccedd3",
        "colab": {
          "base_uri": "https://localhost:8080/",
          "height": 204
        }
      },
      "source": [
        "# Convert to date time object \n",
        "\n",
        "df_train['due_date'] = pd.to_datetime(df_train['due_date'])\n",
        "df_train['effective_date'] = pd.to_datetime(df_train['effective_date'])\n",
        "df_train.head()"
      ],
      "execution_count": 4,
      "outputs": [
        {
          "output_type": "execute_result",
          "data": {
            "text/html": [
              "<div>\n",
              "<style scoped>\n",
              "    .dataframe tbody tr th:only-of-type {\n",
              "        vertical-align: middle;\n",
              "    }\n",
              "\n",
              "    .dataframe tbody tr th {\n",
              "        vertical-align: top;\n",
              "    }\n",
              "\n",
              "    .dataframe thead th {\n",
              "        text-align: right;\n",
              "    }\n",
              "</style>\n",
              "<table border=\"1\" class=\"dataframe\">\n",
              "  <thead>\n",
              "    <tr style=\"text-align: right;\">\n",
              "      <th></th>\n",
              "      <th>loan_status</th>\n",
              "      <th>Principal</th>\n",
              "      <th>terms</th>\n",
              "      <th>effective_date</th>\n",
              "      <th>due_date</th>\n",
              "      <th>age</th>\n",
              "      <th>education</th>\n",
              "      <th>Gender</th>\n",
              "    </tr>\n",
              "  </thead>\n",
              "  <tbody>\n",
              "    <tr>\n",
              "      <th>0</th>\n",
              "      <td>PAIDOFF</td>\n",
              "      <td>1000</td>\n",
              "      <td>30</td>\n",
              "      <td>2016-09-08</td>\n",
              "      <td>2016-10-07</td>\n",
              "      <td>45</td>\n",
              "      <td>High School or Below</td>\n",
              "      <td>male</td>\n",
              "    </tr>\n",
              "    <tr>\n",
              "      <th>1</th>\n",
              "      <td>PAIDOFF</td>\n",
              "      <td>1000</td>\n",
              "      <td>30</td>\n",
              "      <td>2016-09-08</td>\n",
              "      <td>2016-10-07</td>\n",
              "      <td>33</td>\n",
              "      <td>Bechalor</td>\n",
              "      <td>female</td>\n",
              "    </tr>\n",
              "    <tr>\n",
              "      <th>2</th>\n",
              "      <td>PAIDOFF</td>\n",
              "      <td>1000</td>\n",
              "      <td>15</td>\n",
              "      <td>2016-09-08</td>\n",
              "      <td>2016-09-22</td>\n",
              "      <td>27</td>\n",
              "      <td>college</td>\n",
              "      <td>male</td>\n",
              "    </tr>\n",
              "    <tr>\n",
              "      <th>3</th>\n",
              "      <td>PAIDOFF</td>\n",
              "      <td>1000</td>\n",
              "      <td>30</td>\n",
              "      <td>2016-09-09</td>\n",
              "      <td>2016-10-08</td>\n",
              "      <td>28</td>\n",
              "      <td>college</td>\n",
              "      <td>female</td>\n",
              "    </tr>\n",
              "    <tr>\n",
              "      <th>4</th>\n",
              "      <td>PAIDOFF</td>\n",
              "      <td>1000</td>\n",
              "      <td>30</td>\n",
              "      <td>2016-09-09</td>\n",
              "      <td>2016-10-08</td>\n",
              "      <td>29</td>\n",
              "      <td>college</td>\n",
              "      <td>male</td>\n",
              "    </tr>\n",
              "  </tbody>\n",
              "</table>\n",
              "</div>"
            ],
            "text/plain": [
              "  loan_status  Principal  terms effective_date   due_date  age  \\\n",
              "0     PAIDOFF       1000     30     2016-09-08 2016-10-07   45   \n",
              "1     PAIDOFF       1000     30     2016-09-08 2016-10-07   33   \n",
              "2     PAIDOFF       1000     15     2016-09-08 2016-09-22   27   \n",
              "3     PAIDOFF       1000     30     2016-09-09 2016-10-08   28   \n",
              "4     PAIDOFF       1000     30     2016-09-09 2016-10-08   29   \n",
              "\n",
              "              education  Gender  \n",
              "0  High School or Below    male  \n",
              "1              Bechalor  female  \n",
              "2               college    male  \n",
              "3               college  female  \n",
              "4               college    male  "
            ]
          },
          "metadata": {
            "tags": []
          },
          "execution_count": 4
        }
      ]
    },
    {
      "cell_type": "code",
      "metadata": {
        "id": "0xn0GMMj70lj",
        "colab_type": "code",
        "outputId": "75b04c72-dee0-4cd4-8db8-6f0240fc0b9b",
        "colab": {
          "base_uri": "https://localhost:8080/",
          "height": 255
        }
      },
      "source": [
        "# Let's get some information about the dataframe\n",
        "\n",
        "print(df_train.info())"
      ],
      "execution_count": 5,
      "outputs": [
        {
          "output_type": "stream",
          "text": [
            "<class 'pandas.core.frame.DataFrame'>\n",
            "RangeIndex: 346 entries, 0 to 345\n",
            "Data columns (total 8 columns):\n",
            "loan_status       346 non-null object\n",
            "Principal         346 non-null int64\n",
            "terms             346 non-null int64\n",
            "effective_date    346 non-null datetime64[ns]\n",
            "due_date          346 non-null datetime64[ns]\n",
            "age               346 non-null int64\n",
            "education         346 non-null object\n",
            "Gender            346 non-null object\n",
            "dtypes: datetime64[ns](2), int64(3), object(3)\n",
            "memory usage: 21.7+ KB\n",
            "None\n"
          ],
          "name": "stdout"
        }
      ]
    },
    {
      "cell_type": "code",
      "metadata": {
        "id": "IPgKyWJw7ekM",
        "colab_type": "code",
        "outputId": "fb46ff65-28bd-4630-f686-551c47a5e396",
        "colab": {
          "base_uri": "https://localhost:8080/",
          "height": 68
        }
      },
      "source": [
        "# Let’s see how many of each class is in our data set.\n",
        "\n",
        "df_train[\"loan_status\"].value_counts()"
      ],
      "execution_count": 6,
      "outputs": [
        {
          "output_type": "execute_result",
          "data": {
            "text/plain": [
              "PAIDOFF       260\n",
              "COLLECTION     86\n",
              "Name: loan_status, dtype: int64"
            ]
          },
          "metadata": {
            "tags": []
          },
          "execution_count": 6
        }
      ]
    },
    {
      "cell_type": "code",
      "metadata": {
        "id": "cYivwH-K0fE9",
        "colab_type": "code",
        "outputId": "23017be2-6e5a-4a04-8bf4-4ca939215694",
        "colab": {
          "base_uri": "https://localhost:8080/",
          "height": 225
        }
      },
      "source": [
        "# 260 people have paid off the loan on time while 86 have gone into collection \n",
        "# \n",
        "\n",
        "# Lets plot some columns to underestand data better:\n",
        "\n",
        "bins = np.linspace(df_train.Principal.min(), df_train.Principal.max(), 10)\n",
        "g = sns.FacetGrid(df_train, col=\"Gender\", hue=\"loan_status\", palette=\"Set1\", col_wrap=2)\n",
        "g.map(plt.hist, 'Principal', bins=bins, ec=\"k\")\n",
        "\n",
        "g.axes[-1].legend()\n",
        "plt.show()"
      ],
      "execution_count": 7,
      "outputs": [
        {
          "output_type": "display_data",
          "data": {
            "image/png": "[encoded data removed]",
            "text/plain": [
              "<Figure size 432x216 with 2 Axes>"
            ]
          },
          "metadata": {
            "tags": []
          }
        }
      ]
    },
    {
      "cell_type": "code",
      "metadata": {
        "id": "ks3lPLX-08Ax",
        "colab_type": "code",
        "outputId": "9b8d71c2-b520-4d38-8489-31727ef9a27d",
        "colab": {
          "base_uri": "https://localhost:8080/",
          "height": 225
        }
      },
      "source": [
        "bins = np.linspace(df_train.age.min(), df_train.age.max(), 10)\n",
        "g = sns.FacetGrid(df_train, col=\"Gender\", hue=\"loan_status\", palette=\"Set1\", col_wrap=2)\n",
        "g.map(plt.hist, 'age', bins=bins, ec=\"k\")\n",
        "\n",
        "g.axes[-1].legend()\n",
        "plt.show()"
      ],
      "execution_count": 8,
      "outputs": [
        {
          "output_type": "display_data",
          "data": {
            "image/png": "[encoded data removed]",
            "text/plain": [
              "<Figure size 432x216 with 2 Axes>"
            ]
          },
          "metadata": {
            "tags": []
          }
        }
      ]
    },
    {
      "cell_type": "code",
      "metadata": {
        "id": "EsuTxjO-1adl",
        "colab_type": "code",
        "outputId": "ec3ad550-3d61-4934-e5ac-c24bf377f52b",
        "colab": {
          "base_uri": "https://localhost:8080/",
          "height": 225
        }
      },
      "source": [
        "# # Pre-processing:  Feature selection/extraction\n",
        "\n",
        "# ### Lets look at the day of the week people get the loan \n",
        "\n",
        "df_train['dayofweek'] = df_train['effective_date'].dt.dayofweek\n",
        "bins = np.linspace(df_train.dayofweek.min(), df_train.dayofweek.max(), 8)\n",
        "g = sns.FacetGrid(df_train, col=\"Gender\", hue=\"loan_status\", palette=\"Set1\", col_wrap=2)\n",
        "g.map(plt.hist, 'dayofweek', bins=bins, ec=\"k\")\n",
        "g.axes[-1].legend()\n",
        "plt.show()"
      ],
      "execution_count": 9,
      "outputs": [
        {
          "output_type": "display_data",
          "data": {
            "image/png": "[encoded data removed]",
            "text/plain": [
              "<Figure size 432x216 with 2 Axes>"
            ]
          },
          "metadata": {
            "tags": []
          }
        }
      ]
    },
    {
      "cell_type": "code",
      "metadata": {
        "id": "jRnpGu5l2JBy",
        "colab_type": "code",
        "outputId": "32e35c97-d156-4147-bf8f-04ddf5345088",
        "colab": {
          "base_uri": "https://localhost:8080/",
          "height": 204
        }
      },
      "source": [
        "# We see that people who get the loan at the end of the week dont pay it off, so lets use Feature binarization to set a threshold values less then day 4 \n",
        "\n",
        "df_train['weekend'] = df_train['dayofweek'].apply(lambda x: 1 if (x>3)  else 0)\n",
        "\n",
        "df_train.head()"
      ],
      "execution_count": 10,
      "outputs": [
        {
          "output_type": "execute_result",
          "data": {
            "text/html": [
              "<div>\n",
              "<style scoped>\n",
              "    .dataframe tbody tr th:only-of-type {\n",
              "        vertical-align: middle;\n",
              "    }\n",
              "\n",
              "    .dataframe tbody tr th {\n",
              "        vertical-align: top;\n",
              "    }\n",
              "\n",
              "    .dataframe thead th {\n",
              "        text-align: right;\n",
              "    }\n",
              "</style>\n",
              "<table border=\"1\" class=\"dataframe\">\n",
              "  <thead>\n",
              "    <tr style=\"text-align: right;\">\n",
              "      <th></th>\n",
              "      <th>loan_status</th>\n",
              "      <th>Principal</th>\n",
              "      <th>terms</th>\n",
              "      <th>effective_date</th>\n",
              "      <th>due_date</th>\n",
              "      <th>age</th>\n",
              "      <th>education</th>\n",
              "      <th>Gender</th>\n",
              "      <th>dayofweek</th>\n",
              "      <th>weekend</th>\n",
              "    </tr>\n",
              "  </thead>\n",
              "  <tbody>\n",
              "    <tr>\n",
              "      <th>0</th>\n",
              "      <td>PAIDOFF</td>\n",
              "      <td>1000</td>\n",
              "      <td>30</td>\n",
              "      <td>2016-09-08</td>\n",
              "      <td>2016-10-07</td>\n",
              "      <td>45</td>\n",
              "      <td>High School or Below</td>\n",
              "      <td>male</td>\n",
              "      <td>3</td>\n",
              "      <td>0</td>\n",
              "    </tr>\n",
              "    <tr>\n",
              "      <th>1</th>\n",
              "      <td>PAIDOFF</td>\n",
              "      <td>1000</td>\n",
              "      <td>30</td>\n",
              "      <td>2016-09-08</td>\n",
              "      <td>2016-10-07</td>\n",
              "      <td>33</td>\n",
              "      <td>Bechalor</td>\n",
              "      <td>female</td>\n",
              "      <td>3</td>\n",
              "      <td>0</td>\n",
              "    </tr>\n",
              "    <tr>\n",
              "      <th>2</th>\n",
              "      <td>PAIDOFF</td>\n",
              "      <td>1000</td>\n",
              "      <td>15</td>\n",
              "      <td>2016-09-08</td>\n",
              "      <td>2016-09-22</td>\n",
              "      <td>27</td>\n",
              "      <td>college</td>\n",
              "      <td>male</td>\n",
              "      <td>3</td>\n",
              "      <td>0</td>\n",
              "    </tr>\n",
              "    <tr>\n",
              "      <th>3</th>\n",
              "      <td>PAIDOFF</td>\n",
              "      <td>1000</td>\n",
              "      <td>30</td>\n",
              "      <td>2016-09-09</td>\n",
              "      <td>2016-10-08</td>\n",
              "      <td>28</td>\n",
              "      <td>college</td>\n",
              "      <td>female</td>\n",
              "      <td>4</td>\n",
              "      <td>1</td>\n",
              "    </tr>\n",
              "    <tr>\n",
              "      <th>4</th>\n",
              "      <td>PAIDOFF</td>\n",
              "      <td>1000</td>\n",
              "      <td>30</td>\n",
              "      <td>2016-09-09</td>\n",
              "      <td>2016-10-08</td>\n",
              "      <td>29</td>\n",
              "      <td>college</td>\n",
              "      <td>male</td>\n",
              "      <td>4</td>\n",
              "      <td>1</td>\n",
              "    </tr>\n",
              "  </tbody>\n",
              "</table>\n",
              "</div>"
            ],
            "text/plain": [
              "  loan_status  Principal  terms effective_date   due_date  age  \\\n",
              "0     PAIDOFF       1000     30     2016-09-08 2016-10-07   45   \n",
              "1     PAIDOFF       1000     30     2016-09-08 2016-10-07   33   \n",
              "2     PAIDOFF       1000     15     2016-09-08 2016-09-22   27   \n",
              "3     PAIDOFF       1000     30     2016-09-09 2016-10-08   28   \n",
              "4     PAIDOFF       1000     30     2016-09-09 2016-10-08   29   \n",
              "\n",
              "              education  Gender  dayofweek  weekend  \n",
              "0  High School or Below    male          3        0  \n",
              "1              Bechalor  female          3        0  \n",
              "2               college    male          3        0  \n",
              "3               college  female          4        1  \n",
              "4               college    male          4        1  "
            ]
          },
          "metadata": {
            "tags": []
          },
          "execution_count": 10
        }
      ]
    },
    {
      "cell_type": "code",
      "metadata": {
        "id": "kFQWusX82hXr",
        "colab_type": "code",
        "outputId": "42cdf8fd-08db-4fba-d9ed-a8d606c254b2",
        "colab": {
          "base_uri": "https://localhost:8080/",
          "height": 221
        }
      },
      "source": [
        "# ## Convert Categorical features to numerical values\n",
        "\n",
        "# Lets look at gender:\n",
        "# I will print out both the standardized and non-standardized data just so that I can look for any group that may have unsufficient representation.\n",
        "\n",
        "print(df_train.groupby(['Gender'])['loan_status'].value_counts())\n",
        "\n",
        "print(df_train.groupby(['Gender'])['loan_status'].value_counts(normalize=True))"
      ],
      "execution_count": 11,
      "outputs": [
        {
          "output_type": "stream",
          "text": [
            "Gender  loan_status\n",
            "female  PAIDOFF         45\n",
            "        COLLECTION       7\n",
            "male    PAIDOFF        215\n",
            "        COLLECTION      79\n",
            "Name: loan_status, dtype: int64\n",
            "Gender  loan_status\n",
            "female  PAIDOFF        0.865385\n",
            "        COLLECTION     0.134615\n",
            "male    PAIDOFF        0.731293\n",
            "        COLLECTION     0.268707\n",
            "Name: loan_status, dtype: float64\n"
          ],
          "name": "stdout"
        }
      ]
    },
    {
      "cell_type": "code",
      "metadata": {
        "id": "-w7vCLkT2o9q",
        "colab_type": "code",
        "outputId": "9caff4e1-3d32-4e0e-921c-297b84f228bf",
        "colab": {
          "base_uri": "https://localhost:8080/",
          "height": 204
        }
      },
      "source": [
        "# 86 % of female pay there loans while only 73 % of males pay there loan\n",
        "# Lets convert male to 0 and female to 1:\n",
        "\n",
        "df_train['Gender'].replace(to_replace=['male','female'], value=[0,1],inplace=True)\n",
        "df_train.head()"
      ],
      "execution_count": 12,
      "outputs": [
        {
          "output_type": "execute_result",
          "data": {
            "text/html": [
              "<div>\n",
              "<style scoped>\n",
              "    .dataframe tbody tr th:only-of-type {\n",
              "        vertical-align: middle;\n",
              "    }\n",
              "\n",
              "    .dataframe tbody tr th {\n",
              "        vertical-align: top;\n",
              "    }\n",
              "\n",
              "    .dataframe thead th {\n",
              "        text-align: right;\n",
              "    }\n",
              "</style>\n",
              "<table border=\"1\" class=\"dataframe\">\n",
              "  <thead>\n",
              "    <tr style=\"text-align: right;\">\n",
              "      <th></th>\n",
              "      <th>loan_status</th>\n",
              "      <th>Principal</th>\n",
              "      <th>terms</th>\n",
              "      <th>effective_date</th>\n",
              "      <th>due_date</th>\n",
              "      <th>age</th>\n",
              "      <th>education</th>\n",
              "      <th>Gender</th>\n",
              "      <th>dayofweek</th>\n",
              "      <th>weekend</th>\n",
              "    </tr>\n",
              "  </thead>\n",
              "  <tbody>\n",
              "    <tr>\n",
              "      <th>0</th>\n",
              "      <td>PAIDOFF</td>\n",
              "      <td>1000</td>\n",
              "      <td>30</td>\n",
              "      <td>2016-09-08</td>\n",
              "      <td>2016-10-07</td>\n",
              "      <td>45</td>\n",
              "      <td>High School or Below</td>\n",
              "      <td>0</td>\n",
              "      <td>3</td>\n",
              "      <td>0</td>\n",
              "    </tr>\n",
              "    <tr>\n",
              "      <th>1</th>\n",
              "      <td>PAIDOFF</td>\n",
              "      <td>1000</td>\n",
              "      <td>30</td>\n",
              "      <td>2016-09-08</td>\n",
              "      <td>2016-10-07</td>\n",
              "      <td>33</td>\n",
              "      <td>Bechalor</td>\n",
              "      <td>1</td>\n",
              "      <td>3</td>\n",
              "      <td>0</td>\n",
              "    </tr>\n",
              "    <tr>\n",
              "      <th>2</th>\n",
              "      <td>PAIDOFF</td>\n",
              "      <td>1000</td>\n",
              "      <td>15</td>\n",
              "      <td>2016-09-08</td>\n",
              "      <td>2016-09-22</td>\n",
              "      <td>27</td>\n",
              "      <td>college</td>\n",
              "      <td>0</td>\n",
              "      <td>3</td>\n",
              "      <td>0</td>\n",
              "    </tr>\n",
              "    <tr>\n",
              "      <th>3</th>\n",
              "      <td>PAIDOFF</td>\n",
              "      <td>1000</td>\n",
              "      <td>30</td>\n",
              "      <td>2016-09-09</td>\n",
              "      <td>2016-10-08</td>\n",
              "      <td>28</td>\n",
              "      <td>college</td>\n",
              "      <td>1</td>\n",
              "      <td>4</td>\n",
              "      <td>1</td>\n",
              "    </tr>\n",
              "    <tr>\n",
              "      <th>4</th>\n",
              "      <td>PAIDOFF</td>\n",
              "      <td>1000</td>\n",
              "      <td>30</td>\n",
              "      <td>2016-09-09</td>\n",
              "      <td>2016-10-08</td>\n",
              "      <td>29</td>\n",
              "      <td>college</td>\n",
              "      <td>0</td>\n",
              "      <td>4</td>\n",
              "      <td>1</td>\n",
              "    </tr>\n",
              "  </tbody>\n",
              "</table>\n",
              "</div>"
            ],
            "text/plain": [
              "  loan_status  Principal  terms effective_date   due_date  age  \\\n",
              "0     PAIDOFF       1000     30     2016-09-08 2016-10-07   45   \n",
              "1     PAIDOFF       1000     30     2016-09-08 2016-10-07   33   \n",
              "2     PAIDOFF       1000     15     2016-09-08 2016-09-22   27   \n",
              "3     PAIDOFF       1000     30     2016-09-09 2016-10-08   28   \n",
              "4     PAIDOFF       1000     30     2016-09-09 2016-10-08   29   \n",
              "\n",
              "              education  Gender  dayofweek  weekend  \n",
              "0  High School or Below       0          3        0  \n",
              "1              Bechalor       1          3        0  \n",
              "2               college       0          3        0  \n",
              "3               college       1          4        1  \n",
              "4               college       0          4        1  "
            ]
          },
          "metadata": {
            "tags": []
          },
          "execution_count": 12
        }
      ]
    },
    {
      "cell_type": "code",
      "metadata": {
        "id": "KZR96aUW25w9",
        "colab_type": "code",
        "outputId": "0b396405-c598-4b31-e062-995589b08c69",
        "colab": {
          "base_uri": "https://localhost:8080/",
          "height": 357
        }
      },
      "source": [
        "# How about education?\n",
        "\n",
        "print(df_train.groupby(['education'])['loan_status'].value_counts())\n",
        "\n",
        "print(df_train.groupby(['education'])['loan_status'].value_counts(normalize=True))"
      ],
      "execution_count": 13,
      "outputs": [
        {
          "output_type": "stream",
          "text": [
            "education             loan_status\n",
            "Bechalor              PAIDOFF         33\n",
            "                      COLLECTION      11\n",
            "High School or Below  PAIDOFF        112\n",
            "                      COLLECTION      39\n",
            "Master or Above       COLLECTION       1\n",
            "                      PAIDOFF          1\n",
            "college               PAIDOFF        114\n",
            "                      COLLECTION      35\n",
            "Name: loan_status, dtype: int64\n",
            "education             loan_status\n",
            "Bechalor              PAIDOFF        0.750000\n",
            "                      COLLECTION     0.250000\n",
            "High School or Below  PAIDOFF        0.741722\n",
            "                      COLLECTION     0.258278\n",
            "Master or Above       COLLECTION     0.500000\n",
            "                      PAIDOFF        0.500000\n",
            "college               PAIDOFF        0.765101\n",
            "                      COLLECTION     0.234899\n",
            "Name: loan_status, dtype: float64\n"
          ],
          "name": "stdout"
        }
      ]
    },
    {
      "cell_type": "code",
      "metadata": {
        "id": "LZdyiCwZ31MW",
        "colab_type": "code",
        "outputId": "e5b1f0e7-faad-467e-a8f2-de4d4055c5b7",
        "colab": {
          "base_uri": "https://localhost:8080/",
          "height": 204
        }
      },
      "source": [
        "# As you can see, the group of Master and Above has only two data points which seems insufficient for classification. So, I will later drop this group altogether.\n",
        "# Feature befor One Hot Encoding\n",
        "\n",
        "df_train[['Principal','terms','age','Gender','education', 'weekend']].head()"
      ],
      "execution_count": 14,
      "outputs": [
        {
          "output_type": "execute_result",
          "data": {
            "text/html": [
              "<div>\n",
              "<style scoped>\n",
              "    .dataframe tbody tr th:only-of-type {\n",
              "        vertical-align: middle;\n",
              "    }\n",
              "\n",
              "    .dataframe tbody tr th {\n",
              "        vertical-align: top;\n",
              "    }\n",
              "\n",
              "    .dataframe thead th {\n",
              "        text-align: right;\n",
              "    }\n",
              "</style>\n",
              "<table border=\"1\" class=\"dataframe\">\n",
              "  <thead>\n",
              "    <tr style=\"text-align: right;\">\n",
              "      <th></th>\n",
              "      <th>Principal</th>\n",
              "      <th>terms</th>\n",
              "      <th>age</th>\n",
              "      <th>Gender</th>\n",
              "      <th>education</th>\n",
              "      <th>weekend</th>\n",
              "    </tr>\n",
              "  </thead>\n",
              "  <tbody>\n",
              "    <tr>\n",
              "      <th>0</th>\n",
              "      <td>1000</td>\n",
              "      <td>30</td>\n",
              "      <td>45</td>\n",
              "      <td>0</td>\n",
              "      <td>High School or Below</td>\n",
              "      <td>0</td>\n",
              "    </tr>\n",
              "    <tr>\n",
              "      <th>1</th>\n",
              "      <td>1000</td>\n",
              "      <td>30</td>\n",
              "      <td>33</td>\n",
              "      <td>1</td>\n",
              "      <td>Bechalor</td>\n",
              "      <td>0</td>\n",
              "    </tr>\n",
              "    <tr>\n",
              "      <th>2</th>\n",
              "      <td>1000</td>\n",
              "      <td>15</td>\n",
              "      <td>27</td>\n",
              "      <td>0</td>\n",
              "      <td>college</td>\n",
              "      <td>0</td>\n",
              "    </tr>\n",
              "    <tr>\n",
              "      <th>3</th>\n",
              "      <td>1000</td>\n",
              "      <td>30</td>\n",
              "      <td>28</td>\n",
              "      <td>1</td>\n",
              "      <td>college</td>\n",
              "      <td>1</td>\n",
              "    </tr>\n",
              "    <tr>\n",
              "      <th>4</th>\n",
              "      <td>1000</td>\n",
              "      <td>30</td>\n",
              "      <td>29</td>\n",
              "      <td>0</td>\n",
              "      <td>college</td>\n",
              "      <td>1</td>\n",
              "    </tr>\n",
              "  </tbody>\n",
              "</table>\n",
              "</div>"
            ],
            "text/plain": [
              "   Principal  terms  age  Gender             education  weekend\n",
              "0       1000     30   45       0  High School or Below        0\n",
              "1       1000     30   33       1              Bechalor        0\n",
              "2       1000     15   27       0               college        0\n",
              "3       1000     30   28       1               college        1\n",
              "4       1000     30   29       0               college        1"
            ]
          },
          "metadata": {
            "tags": []
          },
          "execution_count": 14
        }
      ]
    },
    {
      "cell_type": "code",
      "metadata": {
        "id": "_qeUR7_J4lQY",
        "colab_type": "code",
        "outputId": "c4bfe3db-2c83-48f0-fbc4-5f4f998c5188",
        "colab": {
          "base_uri": "https://localhost:8080/",
          "height": 204
        }
      },
      "source": [
        "# Use one hot encoding technique to conver categorical varables to binary variables and append them to the feature Data Frame \n",
        "\n",
        "Features = df_train[['Principal','terms','age','Gender','weekend']]\n",
        "Features = pd.concat([Features,pd.get_dummies(df_train['education'])], axis=1)\n",
        "Features.drop(['Master or Above'], axis=1, inplace=True)\n",
        "Features.head()"
      ],
      "execution_count": 15,
      "outputs": [
        {
          "output_type": "execute_result",
          "data": {
            "text/html": [
              "<div>\n",
              "<style scoped>\n",
              "    .dataframe tbody tr th:only-of-type {\n",
              "        vertical-align: middle;\n",
              "    }\n",
              "\n",
              "    .dataframe tbody tr th {\n",
              "        vertical-align: top;\n",
              "    }\n",
              "\n",
              "    .dataframe thead th {\n",
              "        text-align: right;\n",
              "    }\n",
              "</style>\n",
              "<table border=\"1\" class=\"dataframe\">\n",
              "  <thead>\n",
              "    <tr style=\"text-align: right;\">\n",
              "      <th></th>\n",
              "      <th>Principal</th>\n",
              "      <th>terms</th>\n",
              "      <th>age</th>\n",
              "      <th>Gender</th>\n",
              "      <th>weekend</th>\n",
              "      <th>Bechalor</th>\n",
              "      <th>High School or Below</th>\n",
              "      <th>college</th>\n",
              "    </tr>\n",
              "  </thead>\n",
              "  <tbody>\n",
              "    <tr>\n",
              "      <th>0</th>\n",
              "      <td>1000</td>\n",
              "      <td>30</td>\n",
              "      <td>45</td>\n",
              "      <td>0</td>\n",
              "      <td>0</td>\n",
              "      <td>0</td>\n",
              "      <td>1</td>\n",
              "      <td>0</td>\n",
              "    </tr>\n",
              "    <tr>\n",
              "      <th>1</th>\n",
              "      <td>1000</td>\n",
              "      <td>30</td>\n",
              "      <td>33</td>\n",
              "      <td>1</td>\n",
              "      <td>0</td>\n",
              "      <td>1</td>\n",
              "      <td>0</td>\n",
              "      <td>0</td>\n",
              "    </tr>\n",
              "    <tr>\n",
              "      <th>2</th>\n",
              "      <td>1000</td>\n",
              "      <td>15</td>\n",
              "      <td>27</td>\n",
              "      <td>0</td>\n",
              "      <td>0</td>\n",
              "      <td>0</td>\n",
              "      <td>0</td>\n",
              "      <td>1</td>\n",
              "    </tr>\n",
              "    <tr>\n",
              "      <th>3</th>\n",
              "      <td>1000</td>\n",
              "      <td>30</td>\n",
              "      <td>28</td>\n",
              "      <td>1</td>\n",
              "      <td>1</td>\n",
              "      <td>0</td>\n",
              "      <td>0</td>\n",
              "      <td>1</td>\n",
              "    </tr>\n",
              "    <tr>\n",
              "      <th>4</th>\n",
              "      <td>1000</td>\n",
              "      <td>30</td>\n",
              "      <td>29</td>\n",
              "      <td>0</td>\n",
              "      <td>1</td>\n",
              "      <td>0</td>\n",
              "      <td>0</td>\n",
              "      <td>1</td>\n",
              "    </tr>\n",
              "  </tbody>\n",
              "</table>\n",
              "</div>"
            ],
            "text/plain": [
              "   Principal  terms  age  Gender  weekend  Bechalor  High School or Below  \\\n",
              "0       1000     30   45       0        0         0                     1   \n",
              "1       1000     30   33       1        0         1                     0   \n",
              "2       1000     15   27       0        0         0                     0   \n",
              "3       1000     30   28       1        1         0                     0   \n",
              "4       1000     30   29       0        1         0                     0   \n",
              "\n",
              "   college  \n",
              "0        0  \n",
              "1        0  \n",
              "2        1  \n",
              "3        1  \n",
              "4        1  "
            ]
          },
          "metadata": {
            "tags": []
          },
          "execution_count": 15
        }
      ]
    },
    {
      "cell_type": "code",
      "metadata": {
        "id": "jIT5F1daQJMw",
        "colab_type": "code",
        "outputId": "c05048d4-27d4-4d86-980b-babcc4c08717",
        "colab": {
          "base_uri": "https://localhost:8080/",
          "height": 119
        }
      },
      "source": [
        "# Now, we define the arrays of X and y.\n",
        "\n",
        "X = Features.values.astype(\"float\")\n",
        "y = df_train['loan_status'].values\n",
        "\n",
        "print(X[0:5,:])\n",
        "print(y[0:5])"
      ],
      "execution_count": 16,
      "outputs": [
        {
          "output_type": "stream",
          "text": [
            "[[1000.   30.   45.    0.    0.    0.    1.    0.]\n",
            " [1000.   30.   33.    1.    0.    1.    0.    0.]\n",
            " [1000.   15.   27.    0.    0.    0.    0.    1.]\n",
            " [1000.   30.   28.    1.    1.    0.    0.    1.]\n",
            " [1000.   30.   29.    0.    1.    0.    0.    1.]]\n",
            "['PAIDOFF' 'PAIDOFF' 'PAIDOFF' 'PAIDOFF' 'PAIDOFF']\n"
          ],
          "name": "stdout"
        }
      ]
    },
    {
      "cell_type": "code",
      "metadata": {
        "id": "tNKNAS9HRqh5",
        "colab_type": "code",
        "colab": {}
      },
      "source": [
        "# K Nearest Neighbor(KNN)\n",
        "# First, we should find the best k to build the model with the best accuracy.\n",
        "# **warning:** You should not use the __loan_test.csv__ for finding the best k, however, you can split your train_loan.csv into train and test to find the best __k__.\n",
        "# Let's import the necessary libraries:\n",
        "\n",
        "from sklearn.neighbors import KNeighborsClassifier\n",
        "from sklearn.model_selection import cross_val_score"
      ],
      "execution_count": 0,
      "outputs": []
    },
    {
      "cell_type": "code",
      "metadata": {
        "id": "BfH3gQWIU7fQ",
        "colab_type": "code",
        "outputId": "de1fdde1-4245-47f3-d2d5-a694f378ceca",
        "colab": {
          "base_uri": "https://localhost:8080/",
          "height": 300
        }
      },
      "source": [
        "# I wil be using the cross validation method for measuring the accuracy of the model.\n",
        "# P.S.1 Honestly, here because we are only trying to find the best k for the KNN model, it is an overkill to use the cross validation method.\n",
        "# However, I am going to use it anyway just for the sake of presentation.\n",
        "# P.S.2 Instead the for loop below, I could use the function GridSearchCV to make the code more efficient.\n",
        "\n",
        "Ks = 20\n",
        "jacc_score_knn = np.zeros(Ks-1)\n",
        "\n",
        "for n in range(1, Ks):\n",
        "\n",
        "  # Standardize the data and cnstruct the model\n",
        "  X_std = preprocessing.StandardScaler().fit(X).transform(X)\n",
        "  neigh_n = KNeighborsClassifier(n_neighbors=n)\n",
        "  \n",
        "  # Perform cross validation and store the averaged accuracy\n",
        "  scores = cross_val_score(neigh_n, X_std, y, cv=10, scoring='accuracy')\n",
        "  jacc_score_knn[n-1] = scores.mean()\n",
        "\n",
        "# Plot and print the results\n",
        "plt.plot(range(1, Ks), jacc_score_knn)\n",
        "plt.ylabel('Jaccard\\'s Score')\n",
        "plt.xlabel('Number of Neighbors (K)')\n",
        "\n",
        "print(\"The best Jaccard's score was {:.2f}\" .format(jacc_score_knn.max()), \"with k =\", jacc_score_knn.argmax()+1)"
      ],
      "execution_count": 18,
      "outputs": [
        {
          "output_type": "stream",
          "text": [
            "The best Jaccard's score was 0.74 with k = 7\n"
          ],
          "name": "stdout"
        },
        {
          "output_type": "display_data",
          "data": {
            "image/png": "[encoded data removed]",
            "text/plain": [
              "<Figure size 432x288 with 1 Axes>"
            ]
          },
          "metadata": {
            "tags": []
          }
        }
      ]
    },
    {
      "cell_type": "code",
      "metadata": {
        "id": "zq6J42RgUfbs",
        "colab_type": "code",
        "outputId": "6e602e28-b163-4cfb-8709-5342dd023572",
        "colab": {
          "base_uri": "https://localhost:8080/",
          "height": 68
        }
      },
      "source": [
        "# Now that we have the best k, we will construct the best KNN model which will be later applied to the actual test set.\n",
        "# Please note that the dataset is already standardized in the previous step.\n",
        "\n",
        "neigh_n = KNeighborsClassifier(n_neighbors=jacc_score_knn.argmax()+1).fit(X_std, y)\n",
        "neigh_n"
      ],
      "execution_count": 19,
      "outputs": [
        {
          "output_type": "execute_result",
          "data": {
            "text/plain": [
              "KNeighborsClassifier(algorithm='auto', leaf_size=30, metric='minkowski',\n",
              "           metric_params=None, n_jobs=None, n_neighbors=7, p=2,\n",
              "           weights='uniform')"
            ]
          },
          "metadata": {
            "tags": []
          },
          "execution_count": 19
        }
      ]
    },
    {
      "cell_type": "code",
      "metadata": {
        "id": "d2qPn-UqGR6b",
        "colab_type": "code",
        "outputId": "2b59bc1a-7003-4b1b-e6f3-1ff48b06ab80",
        "colab": {
          "base_uri": "https://localhost:8080/",
          "height": 34
        }
      },
      "source": [
        "# Decision Tree\n",
        "# For this method, similar to the KNN method, first I have to find the best max_depth. I also want to find the best criterion between the supported ones which are gini and entropy.\n",
        "# In order to achieve that, I will be using the SerachGridCV from the sklearn to iterate through all of the possible combinations and find the best one.\n",
        "# The maximum depth and the criterion at which we achieve the maximum score will be our best and chosen combination for the final model.\n",
        "\n",
        "from sklearn.tree import DecisionTreeClassifier\n",
        "from sklearn.model_selection import GridSearchCV\n",
        "\n",
        "# Define the parameter values that should be searched\n",
        "MD_range = list(range(3,21))\n",
        "criterion_options = [\"entropy\", \"gini\"]\n",
        "\n",
        "# Create a parameter grid: map the parameter names to the values that should be searched\n",
        "param_grid = dict(max_depth=MD_range, criterion=criterion_options)\n",
        "print(param_grid)"
      ],
      "execution_count": 20,
      "outputs": [
        {
          "output_type": "stream",
          "text": [
            "{'max_depth': [3, 4, 5, 6, 7, 8, 9, 10, 11, 12, 13, 14, 15, 16, 17, 18, 19, 20], 'criterion': ['entropy', 'gini']}\n"
          ],
          "name": "stdout"
        }
      ]
    },
    {
      "cell_type": "code",
      "metadata": {
        "id": "ATsjiwhhHg7O",
        "colab_type": "code",
        "outputId": "e4b42713-0f04-4a4d-d553-5ee29d3b8855",
        "colab": {
          "base_uri": "https://localhost:8080/",
          "height": 258
        }
      },
      "source": [
        "# Construct the model and fit the grid\n",
        "loan_tree = DecisionTreeClassifier(random_state=0)\n",
        "grid = GridSearchCV(loan_tree, param_grid, cv=10, scoring='accuracy', return_train_score='False')\n",
        "grid.fit(X_std, y)"
      ],
      "execution_count": 21,
      "outputs": [
        {
          "output_type": "stream",
          "text": [
            "/usr/local/lib/python3.6/dist-packages/sklearn/model_selection/_search.py:841: DeprecationWarning: The default of the `iid` parameter will change from True to False in version 0.22 and will be removed in 0.24. This will change numeric results when test-set sizes are unequal.\n",
            "  DeprecationWarning)\n"
          ],
          "name": "stderr"
        },
        {
          "output_type": "execute_result",
          "data": {
            "text/plain": [
              "GridSearchCV(cv=10, error_score='raise-deprecating',\n",
              "       estimator=DecisionTreeClassifier(class_weight=None, criterion='gini', max_depth=None,\n",
              "            max_features=None, max_leaf_nodes=None,\n",
              "            min_impurity_decrease=0.0, min_impurity_split=None,\n",
              "            min_samples_leaf=1, min_samples_split=2,\n",
              "            min_weight_fraction_leaf=0.0, presort=False, random_state=0,\n",
              "            splitter='best'),\n",
              "       fit_params=None, iid='warn', n_jobs=None,\n",
              "       param_grid={'max_depth': [3, 4, 5, 6, 7, 8, 9, 10, 11, 12, 13, 14, 15, 16, 17, 18, 19, 20], 'criterion': ['entropy', 'gini']},\n",
              "       pre_dispatch='2*n_jobs', refit=True, return_train_score='False',\n",
              "       scoring='accuracy', verbose=0)"
            ]
          },
          "metadata": {
            "tags": []
          },
          "execution_count": 21
        }
      ]
    },
    {
      "cell_type": "code",
      "metadata": {
        "id": "YO7lq0SxJAI4",
        "colab_type": "code",
        "outputId": "8940ce9a-a3c3-4a0d-bbc7-36c2d9e7f744",
        "colab": {
          "base_uri": "https://localhost:8080/",
          "height": 1165
        }
      },
      "source": [
        "# View the results\n",
        "pd.DataFrame(grid.cv_results_)[['mean_test_score', 'std_test_score', 'params']]"
      ],
      "execution_count": 22,
      "outputs": [
        {
          "output_type": "execute_result",
          "data": {
            "text/html": [
              "<div>\n",
              "<style scoped>\n",
              "    .dataframe tbody tr th:only-of-type {\n",
              "        vertical-align: middle;\n",
              "    }\n",
              "\n",
              "    .dataframe tbody tr th {\n",
              "        vertical-align: top;\n",
              "    }\n",
              "\n",
              "    .dataframe thead th {\n",
              "        text-align: right;\n",
              "    }\n",
              "</style>\n",
              "<table border=\"1\" class=\"dataframe\">\n",
              "  <thead>\n",
              "    <tr style=\"text-align: right;\">\n",
              "      <th></th>\n",
              "      <th>mean_test_score</th>\n",
              "      <th>std_test_score</th>\n",
              "      <th>params</th>\n",
              "    </tr>\n",
              "  </thead>\n",
              "  <tbody>\n",
              "    <tr>\n",
              "      <th>0</th>\n",
              "      <td>0.699422</td>\n",
              "      <td>0.108828</td>\n",
              "      <td>{'criterion': 'entropy', 'max_depth': 3}</td>\n",
              "    </tr>\n",
              "    <tr>\n",
              "      <th>1</th>\n",
              "      <td>0.696532</td>\n",
              "      <td>0.094123</td>\n",
              "      <td>{'criterion': 'entropy', 'max_depth': 4}</td>\n",
              "    </tr>\n",
              "    <tr>\n",
              "      <th>2</th>\n",
              "      <td>0.656069</td>\n",
              "      <td>0.126098</td>\n",
              "      <td>{'criterion': 'entropy', 'max_depth': 5}</td>\n",
              "    </tr>\n",
              "    <tr>\n",
              "      <th>3</th>\n",
              "      <td>0.644509</td>\n",
              "      <td>0.147967</td>\n",
              "      <td>{'criterion': 'entropy', 'max_depth': 6}</td>\n",
              "    </tr>\n",
              "    <tr>\n",
              "      <th>4</th>\n",
              "      <td>0.664740</td>\n",
              "      <td>0.125235</td>\n",
              "      <td>{'criterion': 'entropy', 'max_depth': 7}</td>\n",
              "    </tr>\n",
              "    <tr>\n",
              "      <th>5</th>\n",
              "      <td>0.658960</td>\n",
              "      <td>0.144776</td>\n",
              "      <td>{'criterion': 'entropy', 'max_depth': 8}</td>\n",
              "    </tr>\n",
              "    <tr>\n",
              "      <th>6</th>\n",
              "      <td>0.658960</td>\n",
              "      <td>0.148453</td>\n",
              "      <td>{'criterion': 'entropy', 'max_depth': 9}</td>\n",
              "    </tr>\n",
              "    <tr>\n",
              "      <th>7</th>\n",
              "      <td>0.670520</td>\n",
              "      <td>0.161963</td>\n",
              "      <td>{'criterion': 'entropy', 'max_depth': 10}</td>\n",
              "    </tr>\n",
              "    <tr>\n",
              "      <th>8</th>\n",
              "      <td>0.670520</td>\n",
              "      <td>0.165347</td>\n",
              "      <td>{'criterion': 'entropy', 'max_depth': 11}</td>\n",
              "    </tr>\n",
              "    <tr>\n",
              "      <th>9</th>\n",
              "      <td>0.687861</td>\n",
              "      <td>0.161326</td>\n",
              "      <td>{'criterion': 'entropy', 'max_depth': 12}</td>\n",
              "    </tr>\n",
              "    <tr>\n",
              "      <th>10</th>\n",
              "      <td>0.693642</td>\n",
              "      <td>0.159669</td>\n",
              "      <td>{'criterion': 'entropy', 'max_depth': 13}</td>\n",
              "    </tr>\n",
              "    <tr>\n",
              "      <th>11</th>\n",
              "      <td>0.687861</td>\n",
              "      <td>0.168829</td>\n",
              "      <td>{'criterion': 'entropy', 'max_depth': 14}</td>\n",
              "    </tr>\n",
              "    <tr>\n",
              "      <th>12</th>\n",
              "      <td>0.673410</td>\n",
              "      <td>0.179040</td>\n",
              "      <td>{'criterion': 'entropy', 'max_depth': 15}</td>\n",
              "    </tr>\n",
              "    <tr>\n",
              "      <th>13</th>\n",
              "      <td>0.676301</td>\n",
              "      <td>0.172932</td>\n",
              "      <td>{'criterion': 'entropy', 'max_depth': 16}</td>\n",
              "    </tr>\n",
              "    <tr>\n",
              "      <th>14</th>\n",
              "      <td>0.661850</td>\n",
              "      <td>0.182046</td>\n",
              "      <td>{'criterion': 'entropy', 'max_depth': 17}</td>\n",
              "    </tr>\n",
              "    <tr>\n",
              "      <th>15</th>\n",
              "      <td>0.661850</td>\n",
              "      <td>0.182046</td>\n",
              "      <td>{'criterion': 'entropy', 'max_depth': 18}</td>\n",
              "    </tr>\n",
              "    <tr>\n",
              "      <th>16</th>\n",
              "      <td>0.661850</td>\n",
              "      <td>0.182046</td>\n",
              "      <td>{'criterion': 'entropy', 'max_depth': 19}</td>\n",
              "    </tr>\n",
              "    <tr>\n",
              "      <th>17</th>\n",
              "      <td>0.661850</td>\n",
              "      <td>0.182046</td>\n",
              "      <td>{'criterion': 'entropy', 'max_depth': 20}</td>\n",
              "    </tr>\n",
              "    <tr>\n",
              "      <th>18</th>\n",
              "      <td>0.699422</td>\n",
              "      <td>0.108828</td>\n",
              "      <td>{'criterion': 'gini', 'max_depth': 3}</td>\n",
              "    </tr>\n",
              "    <tr>\n",
              "      <th>19</th>\n",
              "      <td>0.679191</td>\n",
              "      <td>0.094736</td>\n",
              "      <td>{'criterion': 'gini', 'max_depth': 4}</td>\n",
              "    </tr>\n",
              "    <tr>\n",
              "      <th>20</th>\n",
              "      <td>0.653179</td>\n",
              "      <td>0.124392</td>\n",
              "      <td>{'criterion': 'gini', 'max_depth': 5}</td>\n",
              "    </tr>\n",
              "    <tr>\n",
              "      <th>21</th>\n",
              "      <td>0.656069</td>\n",
              "      <td>0.157062</td>\n",
              "      <td>{'criterion': 'gini', 'max_depth': 6}</td>\n",
              "    </tr>\n",
              "    <tr>\n",
              "      <th>22</th>\n",
              "      <td>0.658960</td>\n",
              "      <td>0.149562</td>\n",
              "      <td>{'criterion': 'gini', 'max_depth': 7}</td>\n",
              "    </tr>\n",
              "    <tr>\n",
              "      <th>23</th>\n",
              "      <td>0.667630</td>\n",
              "      <td>0.146129</td>\n",
              "      <td>{'criterion': 'gini', 'max_depth': 8}</td>\n",
              "    </tr>\n",
              "    <tr>\n",
              "      <th>24</th>\n",
              "      <td>0.658960</td>\n",
              "      <td>0.159007</td>\n",
              "      <td>{'criterion': 'gini', 'max_depth': 9}</td>\n",
              "    </tr>\n",
              "    <tr>\n",
              "      <th>25</th>\n",
              "      <td>0.664740</td>\n",
              "      <td>0.165874</td>\n",
              "      <td>{'criterion': 'gini', 'max_depth': 10}</td>\n",
              "    </tr>\n",
              "    <tr>\n",
              "      <th>26</th>\n",
              "      <td>0.664740</td>\n",
              "      <td>0.165859</td>\n",
              "      <td>{'criterion': 'gini', 'max_depth': 11}</td>\n",
              "    </tr>\n",
              "    <tr>\n",
              "      <th>27</th>\n",
              "      <td>0.653179</td>\n",
              "      <td>0.191580</td>\n",
              "      <td>{'criterion': 'gini', 'max_depth': 12}</td>\n",
              "    </tr>\n",
              "    <tr>\n",
              "      <th>28</th>\n",
              "      <td>0.641618</td>\n",
              "      <td>0.191955</td>\n",
              "      <td>{'criterion': 'gini', 'max_depth': 13}</td>\n",
              "    </tr>\n",
              "    <tr>\n",
              "      <th>29</th>\n",
              "      <td>0.661850</td>\n",
              "      <td>0.184287</td>\n",
              "      <td>{'criterion': 'gini', 'max_depth': 14}</td>\n",
              "    </tr>\n",
              "    <tr>\n",
              "      <th>30</th>\n",
              "      <td>0.658960</td>\n",
              "      <td>0.185454</td>\n",
              "      <td>{'criterion': 'gini', 'max_depth': 15}</td>\n",
              "    </tr>\n",
              "    <tr>\n",
              "      <th>31</th>\n",
              "      <td>0.653179</td>\n",
              "      <td>0.191554</td>\n",
              "      <td>{'criterion': 'gini', 'max_depth': 16}</td>\n",
              "    </tr>\n",
              "    <tr>\n",
              "      <th>32</th>\n",
              "      <td>0.653179</td>\n",
              "      <td>0.191554</td>\n",
              "      <td>{'criterion': 'gini', 'max_depth': 17}</td>\n",
              "    </tr>\n",
              "    <tr>\n",
              "      <th>33</th>\n",
              "      <td>0.653179</td>\n",
              "      <td>0.191554</td>\n",
              "      <td>{'criterion': 'gini', 'max_depth': 18}</td>\n",
              "    </tr>\n",
              "    <tr>\n",
              "      <th>34</th>\n",
              "      <td>0.653179</td>\n",
              "      <td>0.191554</td>\n",
              "      <td>{'criterion': 'gini', 'max_depth': 19}</td>\n",
              "    </tr>\n",
              "    <tr>\n",
              "      <th>35</th>\n",
              "      <td>0.653179</td>\n",
              "      <td>0.191554</td>\n",
              "      <td>{'criterion': 'gini', 'max_depth': 20}</td>\n",
              "    </tr>\n",
              "  </tbody>\n",
              "</table>\n",
              "</div>"
            ],
            "text/plain": [
              "    mean_test_score  std_test_score                                     params\n",
              "0          0.699422        0.108828   {'criterion': 'entropy', 'max_depth': 3}\n",
              "1          0.696532        0.094123   {'criterion': 'entropy', 'max_depth': 4}\n",
              "2          0.656069        0.126098   {'criterion': 'entropy', 'max_depth': 5}\n",
              "3          0.644509        0.147967   {'criterion': 'entropy', 'max_depth': 6}\n",
              "4          0.664740        0.125235   {'criterion': 'entropy', 'max_depth': 7}\n",
              "5          0.658960        0.144776   {'criterion': 'entropy', 'max_depth': 8}\n",
              "6          0.658960        0.148453   {'criterion': 'entropy', 'max_depth': 9}\n",
              "7          0.670520        0.161963  {'criterion': 'entropy', 'max_depth': 10}\n",
              "8          0.670520        0.165347  {'criterion': 'entropy', 'max_depth': 11}\n",
              "9          0.687861        0.161326  {'criterion': 'entropy', 'max_depth': 12}\n",
              "10         0.693642        0.159669  {'criterion': 'entropy', 'max_depth': 13}\n",
              "11         0.687861        0.168829  {'criterion': 'entropy', 'max_depth': 14}\n",
              "12         0.673410        0.179040  {'criterion': 'entropy', 'max_depth': 15}\n",
              "13         0.676301        0.172932  {'criterion': 'entropy', 'max_depth': 16}\n",
              "14         0.661850        0.182046  {'criterion': 'entropy', 'max_depth': 17}\n",
              "15         0.661850        0.182046  {'criterion': 'entropy', 'max_depth': 18}\n",
              "16         0.661850        0.182046  {'criterion': 'entropy', 'max_depth': 19}\n",
              "17         0.661850        0.182046  {'criterion': 'entropy', 'max_depth': 20}\n",
              "18         0.699422        0.108828      {'criterion': 'gini', 'max_depth': 3}\n",
              "19         0.679191        0.094736      {'criterion': 'gini', 'max_depth': 4}\n",
              "20         0.653179        0.124392      {'criterion': 'gini', 'max_depth': 5}\n",
              "21         0.656069        0.157062      {'criterion': 'gini', 'max_depth': 6}\n",
              "22         0.658960        0.149562      {'criterion': 'gini', 'max_depth': 7}\n",
              "23         0.667630        0.146129      {'criterion': 'gini', 'max_depth': 8}\n",
              "24         0.658960        0.159007      {'criterion': 'gini', 'max_depth': 9}\n",
              "25         0.664740        0.165874     {'criterion': 'gini', 'max_depth': 10}\n",
              "26         0.664740        0.165859     {'criterion': 'gini', 'max_depth': 11}\n",
              "27         0.653179        0.191580     {'criterion': 'gini', 'max_depth': 12}\n",
              "28         0.641618        0.191955     {'criterion': 'gini', 'max_depth': 13}\n",
              "29         0.661850        0.184287     {'criterion': 'gini', 'max_depth': 14}\n",
              "30         0.658960        0.185454     {'criterion': 'gini', 'max_depth': 15}\n",
              "31         0.653179        0.191554     {'criterion': 'gini', 'max_depth': 16}\n",
              "32         0.653179        0.191554     {'criterion': 'gini', 'max_depth': 17}\n",
              "33         0.653179        0.191554     {'criterion': 'gini', 'max_depth': 18}\n",
              "34         0.653179        0.191554     {'criterion': 'gini', 'max_depth': 19}\n",
              "35         0.653179        0.191554     {'criterion': 'gini', 'max_depth': 20}"
            ]
          },
          "metadata": {
            "tags": []
          },
          "execution_count": 22
        }
      ]
    },
    {
      "cell_type": "code",
      "metadata": {
        "id": "W2ELPlRWIE26",
        "colab_type": "code",
        "outputId": "7bf894d1-0ee1-46bc-cc32-1d2bd7e34b63",
        "colab": {
          "base_uri": "https://localhost:8080/",
          "height": 153
        }
      },
      "source": [
        "# Examine the best model\n",
        "print(grid.best_score_)\n",
        "print(grid.best_params_)\n",
        "print(grid.best_estimator_)"
      ],
      "execution_count": 23,
      "outputs": [
        {
          "output_type": "stream",
          "text": [
            "0.6994219653179191\n",
            "{'criterion': 'entropy', 'max_depth': 3}\n",
            "DecisionTreeClassifier(class_weight=None, criterion='entropy', max_depth=3,\n",
            "            max_features=None, max_leaf_nodes=None,\n",
            "            min_impurity_decrease=0.0, min_impurity_split=None,\n",
            "            min_samples_leaf=1, min_samples_split=2,\n",
            "            min_weight_fraction_leaf=0.0, presort=False, random_state=0,\n",
            "            splitter='best')\n"
          ],
          "name": "stdout"
        }
      ]
    },
    {
      "cell_type": "code",
      "metadata": {
        "id": "1p3T3yZW-FZl",
        "colab_type": "code",
        "outputId": "069e9e90-1724-4963-9369-3c5b15da5d25",
        "colab": {
          "base_uri": "https://localhost:8080/",
          "height": 1207
        }
      },
      "source": [
        "# Now that we have found the best max_depth for the Decision Tree model, we can train the model using the whole train set and visualize the result.\n",
        "# Note that the whole train set was previously standardized.\n",
        "\n",
        "loan_tree = DecisionTreeClassifier(criterion=\"entropy\", max_depth=3, random_state=0).fit(X_std, y)\n",
        "\n",
        "# Visual  the Decision Tree\n",
        "# The code below saves the Decision Tree as an image.\n",
        "\n",
        "from sklearn.externals.six import StringIO\n",
        "import pydotplus\n",
        "import matplotlib.image as mpimg\n",
        "from sklearn import tree\n",
        "\n",
        "dot_data = StringIO()\n",
        "filename = 'LoanTree.png'\n",
        "featureNames = Features.columns\n",
        "targetNames = df_train['loan_status'].unique().tolist()\n",
        "out = tree.export_graphviz(loan_tree, feature_names=featureNames, out_file=dot_data, class_names=np.unique(y), filled=True, special_characters=True, rotate=False)\n",
        "graph = pydotplus.graph_from_dot_data(dot_data.getvalue())\n",
        "graph.write_png(filename)\n",
        "img = mpimg.imread(filename)\n",
        "fig, ax = plt.subplots(figsize=(30, 60))\n",
        "plt.imshow(img, interpolation='nearest')"
      ],
      "execution_count": 24,
      "outputs": [
        {
          "output_type": "execute_result",
          "data": {
            "text/plain": [
              "<matplotlib.image.AxesImage at 0x7fa929fb6198>"
            ]
          },
          "metadata": {
            "tags": []
          },
          "execution_count": 24
        },
        {
          "output_type": "display_data",
          "data": {
            "image/png": "[encoded data removed]",
            "text/plain": [
              "<Figure size 2160x4320 with 1 Axes>"
            ]
          },
          "metadata": {
            "tags": []
          }
        }
      ]
    },
    {
      "cell_type": "code",
      "metadata": {
        "id": "AIu68DEzAk_6",
        "colab_type": "code",
        "outputId": "4edde545-84d4-49d4-e3eb-fdcdb5724de2",
        "colab": {
          "base_uri": "https://localhost:8080/",
          "height": 54
        }
      },
      "source": [
        "# Logistic Regression\n",
        "# Similar to the previous methods, first we want to find the best hyperparamters of the model. So, we utilize the GridSearchCV from sklearn library.\n",
        "\n",
        "from sklearn.linear_model import LogisticRegression\n",
        "\n",
        "# Define the parameter values that should be searched\n",
        "penalty_options = ['l1', 'l2' ]\n",
        "C_range = list(np.logspace(-3, 2, 20))\n",
        "solver_options = ['liblinear']\n",
        "\n",
        "# Create a parameter grid: map the parameter names to the values that should be searched\n",
        "param_grid = dict(penalty=penalty_options, C=C_range, solver=solver_options)\n",
        "print(param_grid)"
      ],
      "execution_count": 25,
      "outputs": [
        {
          "output_type": "stream",
          "text": [
            "{'penalty': ['l1', 'l2'], 'C': [0.001, 0.0018329807108324356, 0.003359818286283781, 0.006158482110660267, 0.011288378916846888, 0.02069138081114789, 0.0379269019073225, 0.06951927961775606, 0.12742749857031335, 0.23357214690901212, 0.42813323987193913, 0.7847599703514607, 1.438449888287663, 2.636650898730358, 4.832930238571752, 8.858667904100823, 16.23776739188721, 29.763514416313193, 54.555947811685144, 100.0], 'solver': ['liblinear']}\n"
          ],
          "name": "stdout"
        }
      ]
    },
    {
      "cell_type": "code",
      "metadata": {
        "id": "psoCPmG1Q5D7",
        "colab_type": "code",
        "outputId": "776cdf9b-fd9d-444e-cbdd-ebcf203d9e8c",
        "colab": {
          "base_uri": "https://localhost:8080/",
          "height": 224
        }
      },
      "source": [
        "# Construct the model and fit the grid\n",
        "loanLR = LogisticRegression(random_state=0)\n",
        "grid = GridSearchCV(loanLR, param_grid, cv=10, scoring='accuracy', return_train_score='False')\n",
        "grid.fit(X_std, y)"
      ],
      "execution_count": 26,
      "outputs": [
        {
          "output_type": "stream",
          "text": [
            "/usr/local/lib/python3.6/dist-packages/sklearn/model_selection/_search.py:841: DeprecationWarning: The default of the `iid` parameter will change from True to False in version 0.22 and will be removed in 0.24. This will change numeric results when test-set sizes are unequal.\n",
            "  DeprecationWarning)\n"
          ],
          "name": "stderr"
        },
        {
          "output_type": "execute_result",
          "data": {
            "text/plain": [
              "GridSearchCV(cv=10, error_score='raise-deprecating',\n",
              "       estimator=LogisticRegression(C=1.0, class_weight=None, dual=False, fit_intercept=True,\n",
              "          intercept_scaling=1, max_iter=100, multi_class='warn',\n",
              "          n_jobs=None, penalty='l2', random_state=0, solver='warn',\n",
              "          tol=0.0001, verbose=0, warm_start=False),\n",
              "       fit_params=None, iid='warn', n_jobs=None,\n",
              "       param_grid={'penalty': ['l1', 'l2'], 'C': [0.001, 0.0018329807108324356, 0.003359818286283781, 0.006158482110660267, 0.011288378916846888, 0.02069138081114789, 0.0379269019073225, 0.06951927961775606, 0.12742749857031335, 0.23357214690901212, 0.42813323987193913, 0.7847599703514607, 1.438449888287663, 2.636650898730358, 4.832930238571752, 8.858667904100823, 16.23776739188721, 29.763514416313193, 54.555947811685144, 100.0], 'solver': ['liblinear']},\n",
              "       pre_dispatch='2*n_jobs', refit=True, return_train_score='False',\n",
              "       scoring='accuracy', verbose=0)"
            ]
          },
          "metadata": {
            "tags": []
          },
          "execution_count": 26
        }
      ]
    },
    {
      "cell_type": "code",
      "metadata": {
        "id": "-mSuU9SmZqzL",
        "colab_type": "code",
        "colab": {
          "base_uri": "https://localhost:8080/",
          "height": 1289
        },
        "outputId": "8a7383e4-16af-4c0e-d11e-22e7fb85b511"
      },
      "source": [
        "# View the results\n",
        "pd.DataFrame(grid.cv_results_)[['mean_test_score', 'std_test_score', 'params']]"
      ],
      "execution_count": 27,
      "outputs": [
        {
          "output_type": "execute_result",
          "data": {
            "text/html": [
              "<div>\n",
              "<style scoped>\n",
              "    .dataframe tbody tr th:only-of-type {\n",
              "        vertical-align: middle;\n",
              "    }\n",
              "\n",
              "    .dataframe tbody tr th {\n",
              "        vertical-align: top;\n",
              "    }\n",
              "\n",
              "    .dataframe thead th {\n",
              "        text-align: right;\n",
              "    }\n",
              "</style>\n",
              "<table border=\"1\" class=\"dataframe\">\n",
              "  <thead>\n",
              "    <tr style=\"text-align: right;\">\n",
              "      <th></th>\n",
              "      <th>mean_test_score</th>\n",
              "      <th>std_test_score</th>\n",
              "      <th>params</th>\n",
              "    </tr>\n",
              "  </thead>\n",
              "  <tbody>\n",
              "    <tr>\n",
              "      <th>0</th>\n",
              "      <td>0.248555</td>\n",
              "      <td>0.010672</td>\n",
              "      <td>{'C': 0.001, 'penalty': 'l1', 'solver': 'libli...</td>\n",
              "    </tr>\n",
              "    <tr>\n",
              "      <th>1</th>\n",
              "      <td>0.682081</td>\n",
              "      <td>0.107344</td>\n",
              "      <td>{'C': 0.001, 'penalty': 'l2', 'solver': 'libli...</td>\n",
              "    </tr>\n",
              "    <tr>\n",
              "      <th>2</th>\n",
              "      <td>0.248555</td>\n",
              "      <td>0.010672</td>\n",
              "      <td>{'C': 0.0018329807108324356, 'penalty': 'l1', ...</td>\n",
              "    </tr>\n",
              "    <tr>\n",
              "      <th>3</th>\n",
              "      <td>0.682081</td>\n",
              "      <td>0.103426</td>\n",
              "      <td>{'C': 0.0018329807108324356, 'penalty': 'l2', ...</td>\n",
              "    </tr>\n",
              "    <tr>\n",
              "      <th>4</th>\n",
              "      <td>0.248555</td>\n",
              "      <td>0.010672</td>\n",
              "      <td>{'C': 0.003359818286283781, 'penalty': 'l1', '...</td>\n",
              "    </tr>\n",
              "    <tr>\n",
              "      <th>5</th>\n",
              "      <td>0.690751</td>\n",
              "      <td>0.096338</td>\n",
              "      <td>{'C': 0.003359818286283781, 'penalty': 'l2', '...</td>\n",
              "    </tr>\n",
              "    <tr>\n",
              "      <th>6</th>\n",
              "      <td>0.248555</td>\n",
              "      <td>0.010672</td>\n",
              "      <td>{'C': 0.006158482110660267, 'penalty': 'l1', '...</td>\n",
              "    </tr>\n",
              "    <tr>\n",
              "      <th>7</th>\n",
              "      <td>0.693642</td>\n",
              "      <td>0.087605</td>\n",
              "      <td>{'C': 0.006158482110660267, 'penalty': 'l2', '...</td>\n",
              "    </tr>\n",
              "    <tr>\n",
              "      <th>8</th>\n",
              "      <td>0.248555</td>\n",
              "      <td>0.010672</td>\n",
              "      <td>{'C': 0.011288378916846888, 'penalty': 'l1', '...</td>\n",
              "    </tr>\n",
              "    <tr>\n",
              "      <th>9</th>\n",
              "      <td>0.693642</td>\n",
              "      <td>0.087605</td>\n",
              "      <td>{'C': 0.011288378916846888, 'penalty': 'l2', '...</td>\n",
              "    </tr>\n",
              "    <tr>\n",
              "      <th>10</th>\n",
              "      <td>0.751445</td>\n",
              "      <td>0.010672</td>\n",
              "      <td>{'C': 0.02069138081114789, 'penalty': 'l1', 's...</td>\n",
              "    </tr>\n",
              "    <tr>\n",
              "      <th>11</th>\n",
              "      <td>0.702312</td>\n",
              "      <td>0.074584</td>\n",
              "      <td>{'C': 0.02069138081114789, 'penalty': 'l2', 's...</td>\n",
              "    </tr>\n",
              "    <tr>\n",
              "      <th>12</th>\n",
              "      <td>0.751445</td>\n",
              "      <td>0.010672</td>\n",
              "      <td>{'C': 0.0379269019073225, 'penalty': 'l1', 'so...</td>\n",
              "    </tr>\n",
              "    <tr>\n",
              "      <th>13</th>\n",
              "      <td>0.710983</td>\n",
              "      <td>0.064236</td>\n",
              "      <td>{'C': 0.0379269019073225, 'penalty': 'l2', 'so...</td>\n",
              "    </tr>\n",
              "    <tr>\n",
              "      <th>14</th>\n",
              "      <td>0.751445</td>\n",
              "      <td>0.010672</td>\n",
              "      <td>{'C': 0.06951927961775606, 'penalty': 'l1', 's...</td>\n",
              "    </tr>\n",
              "    <tr>\n",
              "      <th>15</th>\n",
              "      <td>0.705202</td>\n",
              "      <td>0.063676</td>\n",
              "      <td>{'C': 0.06951927961775606, 'penalty': 'l2', 's...</td>\n",
              "    </tr>\n",
              "    <tr>\n",
              "      <th>16</th>\n",
              "      <td>0.751445</td>\n",
              "      <td>0.010672</td>\n",
              "      <td>{'C': 0.12742749857031335, 'penalty': 'l1', 's...</td>\n",
              "    </tr>\n",
              "    <tr>\n",
              "      <th>17</th>\n",
              "      <td>0.699422</td>\n",
              "      <td>0.065165</td>\n",
              "      <td>{'C': 0.12742749857031335, 'penalty': 'l2', 's...</td>\n",
              "    </tr>\n",
              "    <tr>\n",
              "      <th>18</th>\n",
              "      <td>0.751445</td>\n",
              "      <td>0.010672</td>\n",
              "      <td>{'C': 0.23357214690901212, 'penalty': 'l1', 's...</td>\n",
              "    </tr>\n",
              "    <tr>\n",
              "      <th>19</th>\n",
              "      <td>0.699422</td>\n",
              "      <td>0.065165</td>\n",
              "      <td>{'C': 0.23357214690901212, 'penalty': 'l2', 's...</td>\n",
              "    </tr>\n",
              "    <tr>\n",
              "      <th>20</th>\n",
              "      <td>0.719653</td>\n",
              "      <td>0.062134</td>\n",
              "      <td>{'C': 0.42813323987193913, 'penalty': 'l1', 's...</td>\n",
              "    </tr>\n",
              "    <tr>\n",
              "      <th>21</th>\n",
              "      <td>0.699422</td>\n",
              "      <td>0.081776</td>\n",
              "      <td>{'C': 0.42813323987193913, 'penalty': 'l2', 's...</td>\n",
              "    </tr>\n",
              "    <tr>\n",
              "      <th>22</th>\n",
              "      <td>0.699422</td>\n",
              "      <td>0.074617</td>\n",
              "      <td>{'C': 0.7847599703514607, 'penalty': 'l1', 'so...</td>\n",
              "    </tr>\n",
              "    <tr>\n",
              "      <th>23</th>\n",
              "      <td>0.699422</td>\n",
              "      <td>0.081776</td>\n",
              "      <td>{'C': 0.7847599703514607, 'penalty': 'l2', 'so...</td>\n",
              "    </tr>\n",
              "    <tr>\n",
              "      <th>24</th>\n",
              "      <td>0.693642</td>\n",
              "      <td>0.075451</td>\n",
              "      <td>{'C': 1.438449888287663, 'penalty': 'l1', 'sol...</td>\n",
              "    </tr>\n",
              "    <tr>\n",
              "      <th>25</th>\n",
              "      <td>0.699422</td>\n",
              "      <td>0.081776</td>\n",
              "      <td>{'C': 1.438449888287663, 'penalty': 'l2', 'sol...</td>\n",
              "    </tr>\n",
              "    <tr>\n",
              "      <th>26</th>\n",
              "      <td>0.699422</td>\n",
              "      <td>0.081776</td>\n",
              "      <td>{'C': 2.636650898730358, 'penalty': 'l1', 'sol...</td>\n",
              "    </tr>\n",
              "    <tr>\n",
              "      <th>27</th>\n",
              "      <td>0.699422</td>\n",
              "      <td>0.081776</td>\n",
              "      <td>{'C': 2.636650898730358, 'penalty': 'l2', 'sol...</td>\n",
              "    </tr>\n",
              "    <tr>\n",
              "      <th>28</th>\n",
              "      <td>0.699422</td>\n",
              "      <td>0.081776</td>\n",
              "      <td>{'C': 4.832930238571752, 'penalty': 'l1', 'sol...</td>\n",
              "    </tr>\n",
              "    <tr>\n",
              "      <th>29</th>\n",
              "      <td>0.693642</td>\n",
              "      <td>0.093778</td>\n",
              "      <td>{'C': 4.832930238571752, 'penalty': 'l2', 'sol...</td>\n",
              "    </tr>\n",
              "    <tr>\n",
              "      <th>30</th>\n",
              "      <td>0.693642</td>\n",
              "      <td>0.093778</td>\n",
              "      <td>{'C': 8.858667904100823, 'penalty': 'l1', 'sol...</td>\n",
              "    </tr>\n",
              "    <tr>\n",
              "      <th>31</th>\n",
              "      <td>0.693642</td>\n",
              "      <td>0.093778</td>\n",
              "      <td>{'C': 8.858667904100823, 'penalty': 'l2', 'sol...</td>\n",
              "    </tr>\n",
              "    <tr>\n",
              "      <th>32</th>\n",
              "      <td>0.693642</td>\n",
              "      <td>0.093778</td>\n",
              "      <td>{'C': 16.23776739188721, 'penalty': 'l1', 'sol...</td>\n",
              "    </tr>\n",
              "    <tr>\n",
              "      <th>33</th>\n",
              "      <td>0.693642</td>\n",
              "      <td>0.093778</td>\n",
              "      <td>{'C': 16.23776739188721, 'penalty': 'l2', 'sol...</td>\n",
              "    </tr>\n",
              "    <tr>\n",
              "      <th>34</th>\n",
              "      <td>0.693642</td>\n",
              "      <td>0.093778</td>\n",
              "      <td>{'C': 29.763514416313193, 'penalty': 'l1', 'so...</td>\n",
              "    </tr>\n",
              "    <tr>\n",
              "      <th>35</th>\n",
              "      <td>0.693642</td>\n",
              "      <td>0.093778</td>\n",
              "      <td>{'C': 29.763514416313193, 'penalty': 'l2', 'so...</td>\n",
              "    </tr>\n",
              "    <tr>\n",
              "      <th>36</th>\n",
              "      <td>0.693642</td>\n",
              "      <td>0.093778</td>\n",
              "      <td>{'C': 54.555947811685144, 'penalty': 'l1', 'so...</td>\n",
              "    </tr>\n",
              "    <tr>\n",
              "      <th>37</th>\n",
              "      <td>0.693642</td>\n",
              "      <td>0.093778</td>\n",
              "      <td>{'C': 54.555947811685144, 'penalty': 'l2', 'so...</td>\n",
              "    </tr>\n",
              "    <tr>\n",
              "      <th>38</th>\n",
              "      <td>0.693642</td>\n",
              "      <td>0.093778</td>\n",
              "      <td>{'C': 100.0, 'penalty': 'l1', 'solver': 'libli...</td>\n",
              "    </tr>\n",
              "    <tr>\n",
              "      <th>39</th>\n",
              "      <td>0.693642</td>\n",
              "      <td>0.093778</td>\n",
              "      <td>{'C': 100.0, 'penalty': 'l2', 'solver': 'libli...</td>\n",
              "    </tr>\n",
              "  </tbody>\n",
              "</table>\n",
              "</div>"
            ],
            "text/plain": [
              "    mean_test_score  std_test_score  \\\n",
              "0          0.248555        0.010672   \n",
              "1          0.682081        0.107344   \n",
              "2          0.248555        0.010672   \n",
              "3          0.682081        0.103426   \n",
              "4          0.248555        0.010672   \n",
              "5          0.690751        0.096338   \n",
              "6          0.248555        0.010672   \n",
              "7          0.693642        0.087605   \n",
              "8          0.248555        0.010672   \n",
              "9          0.693642        0.087605   \n",
              "10         0.751445        0.010672   \n",
              "11         0.702312        0.074584   \n",
              "12         0.751445        0.010672   \n",
              "13         0.710983        0.064236   \n",
              "14         0.751445        0.010672   \n",
              "15         0.705202        0.063676   \n",
              "16         0.751445        0.010672   \n",
              "17         0.699422        0.065165   \n",
              "18         0.751445        0.010672   \n",
              "19         0.699422        0.065165   \n",
              "20         0.719653        0.062134   \n",
              "21         0.699422        0.081776   \n",
              "22         0.699422        0.074617   \n",
              "23         0.699422        0.081776   \n",
              "24         0.693642        0.075451   \n",
              "25         0.699422        0.081776   \n",
              "26         0.699422        0.081776   \n",
              "27         0.699422        0.081776   \n",
              "28         0.699422        0.081776   \n",
              "29         0.693642        0.093778   \n",
              "30         0.693642        0.093778   \n",
              "31         0.693642        0.093778   \n",
              "32         0.693642        0.093778   \n",
              "33         0.693642        0.093778   \n",
              "34         0.693642        0.093778   \n",
              "35         0.693642        0.093778   \n",
              "36         0.693642        0.093778   \n",
              "37         0.693642        0.093778   \n",
              "38         0.693642        0.093778   \n",
              "39         0.693642        0.093778   \n",
              "\n",
              "                                               params  \n",
              "0   {'C': 0.001, 'penalty': 'l1', 'solver': 'libli...  \n",
              "1   {'C': 0.001, 'penalty': 'l2', 'solver': 'libli...  \n",
              "2   {'C': 0.0018329807108324356, 'penalty': 'l1', ...  \n",
              "3   {'C': 0.0018329807108324356, 'penalty': 'l2', ...  \n",
              "4   {'C': 0.003359818286283781, 'penalty': 'l1', '...  \n",
              "5   {'C': 0.003359818286283781, 'penalty': 'l2', '...  \n",
              "6   {'C': 0.006158482110660267, 'penalty': 'l1', '...  \n",
              "7   {'C': 0.006158482110660267, 'penalty': 'l2', '...  \n",
              "8   {'C': 0.011288378916846888, 'penalty': 'l1', '...  \n",
              "9   {'C': 0.011288378916846888, 'penalty': 'l2', '...  \n",
              "10  {'C': 0.02069138081114789, 'penalty': 'l1', 's...  \n",
              "11  {'C': 0.02069138081114789, 'penalty': 'l2', 's...  \n",
              "12  {'C': 0.0379269019073225, 'penalty': 'l1', 'so...  \n",
              "13  {'C': 0.0379269019073225, 'penalty': 'l2', 'so...  \n",
              "14  {'C': 0.06951927961775606, 'penalty': 'l1', 's...  \n",
              "15  {'C': 0.06951927961775606, 'penalty': 'l2', 's...  \n",
              "16  {'C': 0.12742749857031335, 'penalty': 'l1', 's...  \n",
              "17  {'C': 0.12742749857031335, 'penalty': 'l2', 's...  \n",
              "18  {'C': 0.23357214690901212, 'penalty': 'l1', 's...  \n",
              "19  {'C': 0.23357214690901212, 'penalty': 'l2', 's...  \n",
              "20  {'C': 0.42813323987193913, 'penalty': 'l1', 's...  \n",
              "21  {'C': 0.42813323987193913, 'penalty': 'l2', 's...  \n",
              "22  {'C': 0.7847599703514607, 'penalty': 'l1', 'so...  \n",
              "23  {'C': 0.7847599703514607, 'penalty': 'l2', 'so...  \n",
              "24  {'C': 1.438449888287663, 'penalty': 'l1', 'sol...  \n",
              "25  {'C': 1.438449888287663, 'penalty': 'l2', 'sol...  \n",
              "26  {'C': 2.636650898730358, 'penalty': 'l1', 'sol...  \n",
              "27  {'C': 2.636650898730358, 'penalty': 'l2', 'sol...  \n",
              "28  {'C': 4.832930238571752, 'penalty': 'l1', 'sol...  \n",
              "29  {'C': 4.832930238571752, 'penalty': 'l2', 'sol...  \n",
              "30  {'C': 8.858667904100823, 'penalty': 'l1', 'sol...  \n",
              "31  {'C': 8.858667904100823, 'penalty': 'l2', 'sol...  \n",
              "32  {'C': 16.23776739188721, 'penalty': 'l1', 'sol...  \n",
              "33  {'C': 16.23776739188721, 'penalty': 'l2', 'sol...  \n",
              "34  {'C': 29.763514416313193, 'penalty': 'l1', 'so...  \n",
              "35  {'C': 29.763514416313193, 'penalty': 'l2', 'so...  \n",
              "36  {'C': 54.555947811685144, 'penalty': 'l1', 'so...  \n",
              "37  {'C': 54.555947811685144, 'penalty': 'l2', 'so...  \n",
              "38  {'C': 100.0, 'penalty': 'l1', 'solver': 'libli...  \n",
              "39  {'C': 100.0, 'penalty': 'l2', 'solver': 'libli...  "
            ]
          },
          "metadata": {
            "tags": []
          },
          "execution_count": 27
        }
      ]
    },
    {
      "cell_type": "code",
      "metadata": {
        "id": "k2rVlj12RJ55",
        "colab_type": "code",
        "outputId": "63fe753e-545e-434a-f5f7-d7bc6985d7ee",
        "colab": {
          "base_uri": "https://localhost:8080/",
          "height": 119
        }
      },
      "source": [
        "# Examine the best model\n",
        "print(grid.best_score_)\n",
        "print(grid.best_params_)\n",
        "print(grid.best_estimator_)"
      ],
      "execution_count": 28,
      "outputs": [
        {
          "output_type": "stream",
          "text": [
            "0.7514450867052023\n",
            "{'C': 0.02069138081114789, 'penalty': 'l1', 'solver': 'liblinear'}\n",
            "LogisticRegression(C=0.02069138081114789, class_weight=None, dual=False,\n",
            "          fit_intercept=True, intercept_scaling=1, max_iter=100,\n",
            "          multi_class='warn', n_jobs=None, penalty='l1', random_state=0,\n",
            "          solver='liblinear', tol=0.0001, verbose=0, warm_start=False)\n"
          ],
          "name": "stdout"
        }
      ]
    },
    {
      "cell_type": "code",
      "metadata": {
        "id": "AvVs3N76Sz2B",
        "colab_type": "code",
        "outputId": "b60b2fa5-cbcb-4eb8-b209-bb1f1273095c",
        "colab": {
          "base_uri": "https://localhost:8080/",
          "height": 119
        }
      },
      "source": [
        "# Now that we have found the best hyperparameters, we can train the model using the whole train set.\n",
        "\n",
        "loanLR = LogisticRegression(penalty='l1', random_state=0, C=grid.best_params_['C'], solver='liblinear').fit(X_std, y)\n",
        "print(loanLR)\n",
        "\n",
        "# Just out f curiosity I am going to print out the coefficients of the model to see which features are more important.\n",
        "print(loanLR.coef_)"
      ],
      "execution_count": 29,
      "outputs": [
        {
          "output_type": "stream",
          "text": [
            "LogisticRegression(C=0.02069138081114789, class_weight=None, dual=False,\n",
            "          fit_intercept=True, intercept_scaling=1, max_iter=100,\n",
            "          multi_class='warn', n_jobs=None, penalty='l1', random_state=0,\n",
            "          solver='liblinear', tol=0.0001, verbose=0, warm_start=False)\n",
            "[[ 0.          0.          0.          0.         -0.20829181  0.\n",
            "   0.          0.        ]]\n"
          ],
          "name": "stdout"
        }
      ]
    },
    {
      "cell_type": "code",
      "metadata": {
        "id": "GkUod1BgTCOD",
        "colab_type": "code",
        "colab": {}
      },
      "source": [
        "# WOW that is interesting. The only significant feature is the fifth one (which is the weekend column). The coeficcient for everything else is 0 which means they do not matter.\n",
        "# But please note that the coefficients above are dependent on the model paramters. For instance if I change the penalty to L2 I will get different coefficients.\n",
        "# Although, the fifth coeficcient will still be the dominant one."
      ],
      "execution_count": 0,
      "outputs": []
    },
    {
      "cell_type": "code",
      "metadata": {
        "id": "LFPhzYixUg_x",
        "colab_type": "code",
        "outputId": "664cee23-4872-485c-f3bf-dc4834874a94",
        "colab": {
          "base_uri": "https://localhost:8080/",
          "height": 54
        }
      },
      "source": [
        "# Support Vector Machine\n",
        "# Next we utilize the SVC from sklearn. As usual first we search for the optimizied hyperparameter.\n",
        "\n",
        "# Define the parameter values that should be searched. We already have define the C_range in the previous steps.\n",
        "kernel_options = ['rbf']\n",
        "gamma_range = list(np.logspace(-3, 2, 20))\n",
        "\n",
        "# Create a parameter grid: map the parameter names to the values that should be searched.\n",
        "param_grid = dict(C=C_range, kernel=kernel_options, gamma=gamma_range)\n",
        "print(param_grid)"
      ],
      "execution_count": 31,
      "outputs": [
        {
          "output_type": "stream",
          "text": [
            "{'C': [0.001, 0.0018329807108324356, 0.003359818286283781, 0.006158482110660267, 0.011288378916846888, 0.02069138081114789, 0.0379269019073225, 0.06951927961775606, 0.12742749857031335, 0.23357214690901212, 0.42813323987193913, 0.7847599703514607, 1.438449888287663, 2.636650898730358, 4.832930238571752, 8.858667904100823, 16.23776739188721, 29.763514416313193, 54.555947811685144, 100.0], 'kernel': ['rbf'], 'gamma': [0.001, 0.0018329807108324356, 0.003359818286283781, 0.006158482110660267, 0.011288378916846888, 0.02069138081114789, 0.0379269019073225, 0.06951927961775606, 0.12742749857031335, 0.23357214690901212, 0.42813323987193913, 0.7847599703514607, 1.438449888287663, 2.636650898730358, 4.832930238571752, 8.858667904100823, 16.23776739188721, 29.763514416313193, 54.555947811685144, 100.0]}\n"
          ],
          "name": "stdout"
        }
      ]
    },
    {
      "cell_type": "code",
      "metadata": {
        "id": "tUKRoyFUnK2o",
        "colab_type": "code",
        "outputId": "91853da3-4526-4b6c-a353-3e7625d84951",
        "colab": {
          "base_uri": "https://localhost:8080/",
          "height": 224
        }
      },
      "source": [
        "# Construct the model and fit the grid\n",
        "from sklearn import svm\n",
        "loanSVC = svm.SVC(random_state=0)\n",
        "grid = GridSearchCV(loanSVC, param_grid, cv=10, scoring='accuracy', return_train_score='False')\n",
        "grid.fit(X_std, y)"
      ],
      "execution_count": 32,
      "outputs": [
        {
          "output_type": "stream",
          "text": [
            "/usr/local/lib/python3.6/dist-packages/sklearn/model_selection/_search.py:841: DeprecationWarning: The default of the `iid` parameter will change from True to False in version 0.22 and will be removed in 0.24. This will change numeric results when test-set sizes are unequal.\n",
            "  DeprecationWarning)\n"
          ],
          "name": "stderr"
        },
        {
          "output_type": "execute_result",
          "data": {
            "text/plain": [
              "GridSearchCV(cv=10, error_score='raise-deprecating',\n",
              "       estimator=SVC(C=1.0, cache_size=200, class_weight=None, coef0=0.0,\n",
              "  decision_function_shape='ovr', degree=3, gamma='auto_deprecated',\n",
              "  kernel='rbf', max_iter=-1, probability=False, random_state=0,\n",
              "  shrinking=True, tol=0.001, verbose=False),\n",
              "       fit_params=None, iid='warn', n_jobs=None,\n",
              "       param_grid={'C': [0.001, 0.0018329807108324356, 0.003359818286283781, 0.006158482110660267, 0.011288378916846888, 0.02069138081114789, 0.0379269019073225, 0.06951927961775606, 0.12742749857031335, 0.23357214690901212, 0.42813323987193913, 0.7847599703514607, 1.438449888287663, 2.636650898730358, 4.8...2930238571752, 8.858667904100823, 16.23776739188721, 29.763514416313193, 54.555947811685144, 100.0]},\n",
              "       pre_dispatch='2*n_jobs', refit=True, return_train_score='False',\n",
              "       scoring='accuracy', verbose=0)"
            ]
          },
          "metadata": {
            "tags": []
          },
          "execution_count": 32
        }
      ]
    },
    {
      "cell_type": "code",
      "metadata": {
        "id": "fVc4Bd9_aBG0",
        "colab_type": "code",
        "colab": {
          "base_uri": "https://localhost:8080/",
          "height": 1969
        },
        "outputId": "5545f4a1-fb81-470b-f02a-2e112e82b7da"
      },
      "source": [
        "# View the results\n",
        "pd.DataFrame(grid.cv_results_)[['mean_test_score', 'std_test_score', 'params']]"
      ],
      "execution_count": 33,
      "outputs": [
        {
          "output_type": "execute_result",
          "data": {
            "text/html": [
              "<div>\n",
              "<style scoped>\n",
              "    .dataframe tbody tr th:only-of-type {\n",
              "        vertical-align: middle;\n",
              "    }\n",
              "\n",
              "    .dataframe tbody tr th {\n",
              "        vertical-align: top;\n",
              "    }\n",
              "\n",
              "    .dataframe thead th {\n",
              "        text-align: right;\n",
              "    }\n",
              "</style>\n",
              "<table border=\"1\" class=\"dataframe\">\n",
              "  <thead>\n",
              "    <tr style=\"text-align: right;\">\n",
              "      <th></th>\n",
              "      <th>mean_test_score</th>\n",
              "      <th>std_test_score</th>\n",
              "      <th>params</th>\n",
              "    </tr>\n",
              "  </thead>\n",
              "  <tbody>\n",
              "    <tr>\n",
              "      <th>0</th>\n",
              "      <td>0.751445</td>\n",
              "      <td>0.010672</td>\n",
              "      <td>{'C': 0.001, 'gamma': 0.001, 'kernel': 'rbf'}</td>\n",
              "    </tr>\n",
              "    <tr>\n",
              "      <th>1</th>\n",
              "      <td>0.751445</td>\n",
              "      <td>0.010672</td>\n",
              "      <td>{'C': 0.001, 'gamma': 0.0018329807108324356, '...</td>\n",
              "    </tr>\n",
              "    <tr>\n",
              "      <th>2</th>\n",
              "      <td>0.751445</td>\n",
              "      <td>0.010672</td>\n",
              "      <td>{'C': 0.001, 'gamma': 0.003359818286283781, 'k...</td>\n",
              "    </tr>\n",
              "    <tr>\n",
              "      <th>3</th>\n",
              "      <td>0.751445</td>\n",
              "      <td>0.010672</td>\n",
              "      <td>{'C': 0.001, 'gamma': 0.006158482110660267, 'k...</td>\n",
              "    </tr>\n",
              "    <tr>\n",
              "      <th>4</th>\n",
              "      <td>0.751445</td>\n",
              "      <td>0.010672</td>\n",
              "      <td>{'C': 0.001, 'gamma': 0.011288378916846888, 'k...</td>\n",
              "    </tr>\n",
              "    <tr>\n",
              "      <th>5</th>\n",
              "      <td>0.751445</td>\n",
              "      <td>0.010672</td>\n",
              "      <td>{'C': 0.001, 'gamma': 0.02069138081114789, 'ke...</td>\n",
              "    </tr>\n",
              "    <tr>\n",
              "      <th>6</th>\n",
              "      <td>0.751445</td>\n",
              "      <td>0.010672</td>\n",
              "      <td>{'C': 0.001, 'gamma': 0.0379269019073225, 'ker...</td>\n",
              "    </tr>\n",
              "    <tr>\n",
              "      <th>7</th>\n",
              "      <td>0.751445</td>\n",
              "      <td>0.010672</td>\n",
              "      <td>{'C': 0.001, 'gamma': 0.06951927961775606, 'ke...</td>\n",
              "    </tr>\n",
              "    <tr>\n",
              "      <th>8</th>\n",
              "      <td>0.751445</td>\n",
              "      <td>0.010672</td>\n",
              "      <td>{'C': 0.001, 'gamma': 0.12742749857031335, 'ke...</td>\n",
              "    </tr>\n",
              "    <tr>\n",
              "      <th>9</th>\n",
              "      <td>0.751445</td>\n",
              "      <td>0.010672</td>\n",
              "      <td>{'C': 0.001, 'gamma': 0.23357214690901212, 'ke...</td>\n",
              "    </tr>\n",
              "    <tr>\n",
              "      <th>10</th>\n",
              "      <td>0.751445</td>\n",
              "      <td>0.010672</td>\n",
              "      <td>{'C': 0.001, 'gamma': 0.42813323987193913, 'ke...</td>\n",
              "    </tr>\n",
              "    <tr>\n",
              "      <th>11</th>\n",
              "      <td>0.751445</td>\n",
              "      <td>0.010672</td>\n",
              "      <td>{'C': 0.001, 'gamma': 0.7847599703514607, 'ker...</td>\n",
              "    </tr>\n",
              "    <tr>\n",
              "      <th>12</th>\n",
              "      <td>0.751445</td>\n",
              "      <td>0.010672</td>\n",
              "      <td>{'C': 0.001, 'gamma': 1.438449888287663, 'kern...</td>\n",
              "    </tr>\n",
              "    <tr>\n",
              "      <th>13</th>\n",
              "      <td>0.751445</td>\n",
              "      <td>0.010672</td>\n",
              "      <td>{'C': 0.001, 'gamma': 2.636650898730358, 'kern...</td>\n",
              "    </tr>\n",
              "    <tr>\n",
              "      <th>14</th>\n",
              "      <td>0.751445</td>\n",
              "      <td>0.010672</td>\n",
              "      <td>{'C': 0.001, 'gamma': 4.832930238571752, 'kern...</td>\n",
              "    </tr>\n",
              "    <tr>\n",
              "      <th>15</th>\n",
              "      <td>0.751445</td>\n",
              "      <td>0.010672</td>\n",
              "      <td>{'C': 0.001, 'gamma': 8.858667904100823, 'kern...</td>\n",
              "    </tr>\n",
              "    <tr>\n",
              "      <th>16</th>\n",
              "      <td>0.751445</td>\n",
              "      <td>0.010672</td>\n",
              "      <td>{'C': 0.001, 'gamma': 16.23776739188721, 'kern...</td>\n",
              "    </tr>\n",
              "    <tr>\n",
              "      <th>17</th>\n",
              "      <td>0.751445</td>\n",
              "      <td>0.010672</td>\n",
              "      <td>{'C': 0.001, 'gamma': 29.763514416313193, 'ker...</td>\n",
              "    </tr>\n",
              "    <tr>\n",
              "      <th>18</th>\n",
              "      <td>0.751445</td>\n",
              "      <td>0.010672</td>\n",
              "      <td>{'C': 0.001, 'gamma': 54.555947811685144, 'ker...</td>\n",
              "    </tr>\n",
              "    <tr>\n",
              "      <th>19</th>\n",
              "      <td>0.751445</td>\n",
              "      <td>0.010672</td>\n",
              "      <td>{'C': 0.001, 'gamma': 100.0, 'kernel': 'rbf'}</td>\n",
              "    </tr>\n",
              "    <tr>\n",
              "      <th>20</th>\n",
              "      <td>0.751445</td>\n",
              "      <td>0.010672</td>\n",
              "      <td>{'C': 0.0018329807108324356, 'gamma': 0.001, '...</td>\n",
              "    </tr>\n",
              "    <tr>\n",
              "      <th>21</th>\n",
              "      <td>0.751445</td>\n",
              "      <td>0.010672</td>\n",
              "      <td>{'C': 0.0018329807108324356, 'gamma': 0.001832...</td>\n",
              "    </tr>\n",
              "    <tr>\n",
              "      <th>22</th>\n",
              "      <td>0.751445</td>\n",
              "      <td>0.010672</td>\n",
              "      <td>{'C': 0.0018329807108324356, 'gamma': 0.003359...</td>\n",
              "    </tr>\n",
              "    <tr>\n",
              "      <th>23</th>\n",
              "      <td>0.751445</td>\n",
              "      <td>0.010672</td>\n",
              "      <td>{'C': 0.0018329807108324356, 'gamma': 0.006158...</td>\n",
              "    </tr>\n",
              "    <tr>\n",
              "      <th>24</th>\n",
              "      <td>0.751445</td>\n",
              "      <td>0.010672</td>\n",
              "      <td>{'C': 0.0018329807108324356, 'gamma': 0.011288...</td>\n",
              "    </tr>\n",
              "    <tr>\n",
              "      <th>25</th>\n",
              "      <td>0.751445</td>\n",
              "      <td>0.010672</td>\n",
              "      <td>{'C': 0.0018329807108324356, 'gamma': 0.020691...</td>\n",
              "    </tr>\n",
              "    <tr>\n",
              "      <th>26</th>\n",
              "      <td>0.751445</td>\n",
              "      <td>0.010672</td>\n",
              "      <td>{'C': 0.0018329807108324356, 'gamma': 0.037926...</td>\n",
              "    </tr>\n",
              "    <tr>\n",
              "      <th>27</th>\n",
              "      <td>0.751445</td>\n",
              "      <td>0.010672</td>\n",
              "      <td>{'C': 0.0018329807108324356, 'gamma': 0.069519...</td>\n",
              "    </tr>\n",
              "    <tr>\n",
              "      <th>28</th>\n",
              "      <td>0.751445</td>\n",
              "      <td>0.010672</td>\n",
              "      <td>{'C': 0.0018329807108324356, 'gamma': 0.127427...</td>\n",
              "    </tr>\n",
              "    <tr>\n",
              "      <th>29</th>\n",
              "      <td>0.751445</td>\n",
              "      <td>0.010672</td>\n",
              "      <td>{'C': 0.0018329807108324356, 'gamma': 0.233572...</td>\n",
              "    </tr>\n",
              "    <tr>\n",
              "      <th>...</th>\n",
              "      <td>...</td>\n",
              "      <td>...</td>\n",
              "      <td>...</td>\n",
              "    </tr>\n",
              "    <tr>\n",
              "      <th>370</th>\n",
              "      <td>0.731214</td>\n",
              "      <td>0.120287</td>\n",
              "      <td>{'C': 54.555947811685144, 'gamma': 0.428133239...</td>\n",
              "    </tr>\n",
              "    <tr>\n",
              "      <th>371</th>\n",
              "      <td>0.734104</td>\n",
              "      <td>0.120924</td>\n",
              "      <td>{'C': 54.555947811685144, 'gamma': 0.784759970...</td>\n",
              "    </tr>\n",
              "    <tr>\n",
              "      <th>372</th>\n",
              "      <td>0.722543</td>\n",
              "      <td>0.108938</td>\n",
              "      <td>{'C': 54.555947811685144, 'gamma': 1.438449888...</td>\n",
              "    </tr>\n",
              "    <tr>\n",
              "      <th>373</th>\n",
              "      <td>0.699422</td>\n",
              "      <td>0.102009</td>\n",
              "      <td>{'C': 54.555947811685144, 'gamma': 2.636650898...</td>\n",
              "    </tr>\n",
              "    <tr>\n",
              "      <th>374</th>\n",
              "      <td>0.708092</td>\n",
              "      <td>0.100608</td>\n",
              "      <td>{'C': 54.555947811685144, 'gamma': 4.832930238...</td>\n",
              "    </tr>\n",
              "    <tr>\n",
              "      <th>375</th>\n",
              "      <td>0.687861</td>\n",
              "      <td>0.121807</td>\n",
              "      <td>{'C': 54.555947811685144, 'gamma': 8.858667904...</td>\n",
              "    </tr>\n",
              "    <tr>\n",
              "      <th>376</th>\n",
              "      <td>0.690751</td>\n",
              "      <td>0.122060</td>\n",
              "      <td>{'C': 54.555947811685144, 'gamma': 16.23776739...</td>\n",
              "    </tr>\n",
              "    <tr>\n",
              "      <th>377</th>\n",
              "      <td>0.699422</td>\n",
              "      <td>0.108649</td>\n",
              "      <td>{'C': 54.555947811685144, 'gamma': 29.76351441...</td>\n",
              "    </tr>\n",
              "    <tr>\n",
              "      <th>378</th>\n",
              "      <td>0.705202</td>\n",
              "      <td>0.095770</td>\n",
              "      <td>{'C': 54.555947811685144, 'gamma': 54.55594781...</td>\n",
              "    </tr>\n",
              "    <tr>\n",
              "      <th>379</th>\n",
              "      <td>0.702312</td>\n",
              "      <td>0.091622</td>\n",
              "      <td>{'C': 54.555947811685144, 'gamma': 100.0, 'ker...</td>\n",
              "    </tr>\n",
              "    <tr>\n",
              "      <th>380</th>\n",
              "      <td>0.751445</td>\n",
              "      <td>0.010672</td>\n",
              "      <td>{'C': 100.0, 'gamma': 0.001, 'kernel': 'rbf'}</td>\n",
              "    </tr>\n",
              "    <tr>\n",
              "      <th>381</th>\n",
              "      <td>0.751445</td>\n",
              "      <td>0.010672</td>\n",
              "      <td>{'C': 100.0, 'gamma': 0.0018329807108324356, '...</td>\n",
              "    </tr>\n",
              "    <tr>\n",
              "      <th>382</th>\n",
              "      <td>0.748555</td>\n",
              "      <td>0.015419</td>\n",
              "      <td>{'C': 100.0, 'gamma': 0.003359818286283781, 'k...</td>\n",
              "    </tr>\n",
              "    <tr>\n",
              "      <th>383</th>\n",
              "      <td>0.716763</td>\n",
              "      <td>0.062975</td>\n",
              "      <td>{'C': 100.0, 'gamma': 0.006158482110660267, 'k...</td>\n",
              "    </tr>\n",
              "    <tr>\n",
              "      <th>384</th>\n",
              "      <td>0.705202</td>\n",
              "      <td>0.070775</td>\n",
              "      <td>{'C': 100.0, 'gamma': 0.011288378916846888, 'k...</td>\n",
              "    </tr>\n",
              "    <tr>\n",
              "      <th>385</th>\n",
              "      <td>0.705202</td>\n",
              "      <td>0.089015</td>\n",
              "      <td>{'C': 100.0, 'gamma': 0.02069138081114789, 'ke...</td>\n",
              "    </tr>\n",
              "    <tr>\n",
              "      <th>386</th>\n",
              "      <td>0.679191</td>\n",
              "      <td>0.114439</td>\n",
              "      <td>{'C': 100.0, 'gamma': 0.0379269019073225, 'ker...</td>\n",
              "    </tr>\n",
              "    <tr>\n",
              "      <th>387</th>\n",
              "      <td>0.667630</td>\n",
              "      <td>0.121059</td>\n",
              "      <td>{'C': 100.0, 'gamma': 0.06951927961775606, 'ke...</td>\n",
              "    </tr>\n",
              "    <tr>\n",
              "      <th>388</th>\n",
              "      <td>0.667630</td>\n",
              "      <td>0.123128</td>\n",
              "      <td>{'C': 100.0, 'gamma': 0.12742749857031335, 'ke...</td>\n",
              "    </tr>\n",
              "    <tr>\n",
              "      <th>389</th>\n",
              "      <td>0.705202</td>\n",
              "      <td>0.121442</td>\n",
              "      <td>{'C': 100.0, 'gamma': 0.23357214690901212, 'ke...</td>\n",
              "    </tr>\n",
              "    <tr>\n",
              "      <th>390</th>\n",
              "      <td>0.728324</td>\n",
              "      <td>0.120406</td>\n",
              "      <td>{'C': 100.0, 'gamma': 0.42813323987193913, 'ke...</td>\n",
              "    </tr>\n",
              "    <tr>\n",
              "      <th>391</th>\n",
              "      <td>0.719653</td>\n",
              "      <td>0.123663</td>\n",
              "      <td>{'C': 100.0, 'gamma': 0.7847599703514607, 'ker...</td>\n",
              "    </tr>\n",
              "    <tr>\n",
              "      <th>392</th>\n",
              "      <td>0.725434</td>\n",
              "      <td>0.094735</td>\n",
              "      <td>{'C': 100.0, 'gamma': 1.438449888287663, 'kern...</td>\n",
              "    </tr>\n",
              "    <tr>\n",
              "      <th>393</th>\n",
              "      <td>0.702312</td>\n",
              "      <td>0.102566</td>\n",
              "      <td>{'C': 100.0, 'gamma': 2.636650898730358, 'kern...</td>\n",
              "    </tr>\n",
              "    <tr>\n",
              "      <th>394</th>\n",
              "      <td>0.699422</td>\n",
              "      <td>0.110313</td>\n",
              "      <td>{'C': 100.0, 'gamma': 4.832930238571752, 'kern...</td>\n",
              "    </tr>\n",
              "    <tr>\n",
              "      <th>395</th>\n",
              "      <td>0.684971</td>\n",
              "      <td>0.121484</td>\n",
              "      <td>{'C': 100.0, 'gamma': 8.858667904100823, 'kern...</td>\n",
              "    </tr>\n",
              "    <tr>\n",
              "      <th>396</th>\n",
              "      <td>0.690751</td>\n",
              "      <td>0.122060</td>\n",
              "      <td>{'C': 100.0, 'gamma': 16.23776739188721, 'kern...</td>\n",
              "    </tr>\n",
              "    <tr>\n",
              "      <th>397</th>\n",
              "      <td>0.699422</td>\n",
              "      <td>0.108649</td>\n",
              "      <td>{'C': 100.0, 'gamma': 29.763514416313193, 'ker...</td>\n",
              "    </tr>\n",
              "    <tr>\n",
              "      <th>398</th>\n",
              "      <td>0.705202</td>\n",
              "      <td>0.095770</td>\n",
              "      <td>{'C': 100.0, 'gamma': 54.555947811685144, 'ker...</td>\n",
              "    </tr>\n",
              "    <tr>\n",
              "      <th>399</th>\n",
              "      <td>0.702312</td>\n",
              "      <td>0.091622</td>\n",
              "      <td>{'C': 100.0, 'gamma': 100.0, 'kernel': 'rbf'}</td>\n",
              "    </tr>\n",
              "  </tbody>\n",
              "</table>\n",
              "<p>400 rows × 3 columns</p>\n",
              "</div>"
            ],
            "text/plain": [
              "     mean_test_score  std_test_score  \\\n",
              "0           0.751445        0.010672   \n",
              "1           0.751445        0.010672   \n",
              "2           0.751445        0.010672   \n",
              "3           0.751445        0.010672   \n",
              "4           0.751445        0.010672   \n",
              "5           0.751445        0.010672   \n",
              "6           0.751445        0.010672   \n",
              "7           0.751445        0.010672   \n",
              "8           0.751445        0.010672   \n",
              "9           0.751445        0.010672   \n",
              "10          0.751445        0.010672   \n",
              "11          0.751445        0.010672   \n",
              "12          0.751445        0.010672   \n",
              "13          0.751445        0.010672   \n",
              "14          0.751445        0.010672   \n",
              "15          0.751445        0.010672   \n",
              "16          0.751445        0.010672   \n",
              "17          0.751445        0.010672   \n",
              "18          0.751445        0.010672   \n",
              "19          0.751445        0.010672   \n",
              "20          0.751445        0.010672   \n",
              "21          0.751445        0.010672   \n",
              "22          0.751445        0.010672   \n",
              "23          0.751445        0.010672   \n",
              "24          0.751445        0.010672   \n",
              "25          0.751445        0.010672   \n",
              "26          0.751445        0.010672   \n",
              "27          0.751445        0.010672   \n",
              "28          0.751445        0.010672   \n",
              "29          0.751445        0.010672   \n",
              "..               ...             ...   \n",
              "370         0.731214        0.120287   \n",
              "371         0.734104        0.120924   \n",
              "372         0.722543        0.108938   \n",
              "373         0.699422        0.102009   \n",
              "374         0.708092        0.100608   \n",
              "375         0.687861        0.121807   \n",
              "376         0.690751        0.122060   \n",
              "377         0.699422        0.108649   \n",
              "378         0.705202        0.095770   \n",
              "379         0.702312        0.091622   \n",
              "380         0.751445        0.010672   \n",
              "381         0.751445        0.010672   \n",
              "382         0.748555        0.015419   \n",
              "383         0.716763        0.062975   \n",
              "384         0.705202        0.070775   \n",
              "385         0.705202        0.089015   \n",
              "386         0.679191        0.114439   \n",
              "387         0.667630        0.121059   \n",
              "388         0.667630        0.123128   \n",
              "389         0.705202        0.121442   \n",
              "390         0.728324        0.120406   \n",
              "391         0.719653        0.123663   \n",
              "392         0.725434        0.094735   \n",
              "393         0.702312        0.102566   \n",
              "394         0.699422        0.110313   \n",
              "395         0.684971        0.121484   \n",
              "396         0.690751        0.122060   \n",
              "397         0.699422        0.108649   \n",
              "398         0.705202        0.095770   \n",
              "399         0.702312        0.091622   \n",
              "\n",
              "                                                params  \n",
              "0        {'C': 0.001, 'gamma': 0.001, 'kernel': 'rbf'}  \n",
              "1    {'C': 0.001, 'gamma': 0.0018329807108324356, '...  \n",
              "2    {'C': 0.001, 'gamma': 0.003359818286283781, 'k...  \n",
              "3    {'C': 0.001, 'gamma': 0.006158482110660267, 'k...  \n",
              "4    {'C': 0.001, 'gamma': 0.011288378916846888, 'k...  \n",
              "5    {'C': 0.001, 'gamma': 0.02069138081114789, 'ke...  \n",
              "6    {'C': 0.001, 'gamma': 0.0379269019073225, 'ker...  \n",
              "7    {'C': 0.001, 'gamma': 0.06951927961775606, 'ke...  \n",
              "8    {'C': 0.001, 'gamma': 0.12742749857031335, 'ke...  \n",
              "9    {'C': 0.001, 'gamma': 0.23357214690901212, 'ke...  \n",
              "10   {'C': 0.001, 'gamma': 0.42813323987193913, 'ke...  \n",
              "11   {'C': 0.001, 'gamma': 0.7847599703514607, 'ker...  \n",
              "12   {'C': 0.001, 'gamma': 1.438449888287663, 'kern...  \n",
              "13   {'C': 0.001, 'gamma': 2.636650898730358, 'kern...  \n",
              "14   {'C': 0.001, 'gamma': 4.832930238571752, 'kern...  \n",
              "15   {'C': 0.001, 'gamma': 8.858667904100823, 'kern...  \n",
              "16   {'C': 0.001, 'gamma': 16.23776739188721, 'kern...  \n",
              "17   {'C': 0.001, 'gamma': 29.763514416313193, 'ker...  \n",
              "18   {'C': 0.001, 'gamma': 54.555947811685144, 'ker...  \n",
              "19       {'C': 0.001, 'gamma': 100.0, 'kernel': 'rbf'}  \n",
              "20   {'C': 0.0018329807108324356, 'gamma': 0.001, '...  \n",
              "21   {'C': 0.0018329807108324356, 'gamma': 0.001832...  \n",
              "22   {'C': 0.0018329807108324356, 'gamma': 0.003359...  \n",
              "23   {'C': 0.0018329807108324356, 'gamma': 0.006158...  \n",
              "24   {'C': 0.0018329807108324356, 'gamma': 0.011288...  \n",
              "25   {'C': 0.0018329807108324356, 'gamma': 0.020691...  \n",
              "26   {'C': 0.0018329807108324356, 'gamma': 0.037926...  \n",
              "27   {'C': 0.0018329807108324356, 'gamma': 0.069519...  \n",
              "28   {'C': 0.0018329807108324356, 'gamma': 0.127427...  \n",
              "29   {'C': 0.0018329807108324356, 'gamma': 0.233572...  \n",
              "..                                                 ...  \n",
              "370  {'C': 54.555947811685144, 'gamma': 0.428133239...  \n",
              "371  {'C': 54.555947811685144, 'gamma': 0.784759970...  \n",
              "372  {'C': 54.555947811685144, 'gamma': 1.438449888...  \n",
              "373  {'C': 54.555947811685144, 'gamma': 2.636650898...  \n",
              "374  {'C': 54.555947811685144, 'gamma': 4.832930238...  \n",
              "375  {'C': 54.555947811685144, 'gamma': 8.858667904...  \n",
              "376  {'C': 54.555947811685144, 'gamma': 16.23776739...  \n",
              "377  {'C': 54.555947811685144, 'gamma': 29.76351441...  \n",
              "378  {'C': 54.555947811685144, 'gamma': 54.55594781...  \n",
              "379  {'C': 54.555947811685144, 'gamma': 100.0, 'ker...  \n",
              "380      {'C': 100.0, 'gamma': 0.001, 'kernel': 'rbf'}  \n",
              "381  {'C': 100.0, 'gamma': 0.0018329807108324356, '...  \n",
              "382  {'C': 100.0, 'gamma': 0.003359818286283781, 'k...  \n",
              "383  {'C': 100.0, 'gamma': 0.006158482110660267, 'k...  \n",
              "384  {'C': 100.0, 'gamma': 0.011288378916846888, 'k...  \n",
              "385  {'C': 100.0, 'gamma': 0.02069138081114789, 'ke...  \n",
              "386  {'C': 100.0, 'gamma': 0.0379269019073225, 'ker...  \n",
              "387  {'C': 100.0, 'gamma': 0.06951927961775606, 'ke...  \n",
              "388  {'C': 100.0, 'gamma': 0.12742749857031335, 'ke...  \n",
              "389  {'C': 100.0, 'gamma': 0.23357214690901212, 'ke...  \n",
              "390  {'C': 100.0, 'gamma': 0.42813323987193913, 'ke...  \n",
              "391  {'C': 100.0, 'gamma': 0.7847599703514607, 'ker...  \n",
              "392  {'C': 100.0, 'gamma': 1.438449888287663, 'kern...  \n",
              "393  {'C': 100.0, 'gamma': 2.636650898730358, 'kern...  \n",
              "394  {'C': 100.0, 'gamma': 4.832930238571752, 'kern...  \n",
              "395  {'C': 100.0, 'gamma': 8.858667904100823, 'kern...  \n",
              "396  {'C': 100.0, 'gamma': 16.23776739188721, 'kern...  \n",
              "397  {'C': 100.0, 'gamma': 29.763514416313193, 'ker...  \n",
              "398  {'C': 100.0, 'gamma': 54.555947811685144, 'ker...  \n",
              "399      {'C': 100.0, 'gamma': 100.0, 'kernel': 'rbf'}  \n",
              "\n",
              "[400 rows x 3 columns]"
            ]
          },
          "metadata": {
            "tags": []
          },
          "execution_count": 33
        }
      ]
    },
    {
      "cell_type": "code",
      "metadata": {
        "id": "5on0iZjJvpx0",
        "colab_type": "code",
        "outputId": "43ca9cd5-7a36-42fb-a2ff-2396fa0f1506",
        "colab": {
          "base_uri": "https://localhost:8080/",
          "height": 51
        }
      },
      "source": [
        "# examine the best model\n",
        "print(grid.best_score_)\n",
        "print(grid.best_params_)"
      ],
      "execution_count": 34,
      "outputs": [
        {
          "output_type": "stream",
          "text": [
            "0.7572254335260116\n",
            "{'C': 0.42813323987193913, 'gamma': 8.858667904100823, 'kernel': 'rbf'}\n"
          ],
          "name": "stdout"
        }
      ]
    },
    {
      "cell_type": "code",
      "metadata": {
        "id": "uHGsZt68rttI",
        "colab_type": "code",
        "colab": {
          "base_uri": "https://localhost:8080/",
          "height": 85
        },
        "outputId": "6acc90b7-34ff-4900-f4fc-1767889f613c"
      },
      "source": [
        "# Now that we have found the best hyperparameters, we can train the model using the whole train set.\n",
        "\n",
        "loanSVC = svm.SVC(C=grid.best_params_['C'], random_state=0, gamma=grid.best_params_['gamma'], kernel='rbf').fit(X_std, y)\n",
        "print(loanSVC)"
      ],
      "execution_count": 35,
      "outputs": [
        {
          "output_type": "stream",
          "text": [
            "SVC(C=0.42813323987193913, cache_size=200, class_weight=None, coef0=0.0,\n",
            "  decision_function_shape='ovr', degree=3, gamma=8.858667904100823,\n",
            "  kernel='rbf', max_iter=-1, probability=False, random_state=0,\n",
            "  shrinking=True, tol=0.001, verbose=False)\n"
          ],
          "name": "stdout"
        }
      ]
    },
    {
      "cell_type": "code",
      "metadata": {
        "id": "zOMvOoPjgxsO",
        "colab_type": "code",
        "colab": {
          "base_uri": "https://localhost:8080/",
          "height": 204
        },
        "outputId": "b432842b-0dd5-4cde-ea99-8a476d7cf2dc"
      },
      "source": [
        "# Now that we have all of our classifiers tuned, we can test the models against the test set which we have access to.\n",
        "\n",
        "path_test = \"https://s3-api.us-geo.objectstorage.softlayer.net/cf-courses-data/CognitiveClass/ML0101ENv3/labs/loan_test.csv\"\n",
        "df_test = pd.read_csv(path_test)\n",
        "df_test.head()"
      ],
      "execution_count": 36,
      "outputs": [
        {
          "output_type": "execute_result",
          "data": {
            "text/html": [
              "<div>\n",
              "<style scoped>\n",
              "    .dataframe tbody tr th:only-of-type {\n",
              "        vertical-align: middle;\n",
              "    }\n",
              "\n",
              "    .dataframe tbody tr th {\n",
              "        vertical-align: top;\n",
              "    }\n",
              "\n",
              "    .dataframe thead th {\n",
              "        text-align: right;\n",
              "    }\n",
              "</style>\n",
              "<table border=\"1\" class=\"dataframe\">\n",
              "  <thead>\n",
              "    <tr style=\"text-align: right;\">\n",
              "      <th></th>\n",
              "      <th>Unnamed: 0</th>\n",
              "      <th>Unnamed: 0.1</th>\n",
              "      <th>loan_status</th>\n",
              "      <th>Principal</th>\n",
              "      <th>terms</th>\n",
              "      <th>effective_date</th>\n",
              "      <th>due_date</th>\n",
              "      <th>age</th>\n",
              "      <th>education</th>\n",
              "      <th>Gender</th>\n",
              "    </tr>\n",
              "  </thead>\n",
              "  <tbody>\n",
              "    <tr>\n",
              "      <th>0</th>\n",
              "      <td>1</td>\n",
              "      <td>1</td>\n",
              "      <td>PAIDOFF</td>\n",
              "      <td>1000</td>\n",
              "      <td>30</td>\n",
              "      <td>9/8/2016</td>\n",
              "      <td>10/7/2016</td>\n",
              "      <td>50</td>\n",
              "      <td>Bechalor</td>\n",
              "      <td>female</td>\n",
              "    </tr>\n",
              "    <tr>\n",
              "      <th>1</th>\n",
              "      <td>5</td>\n",
              "      <td>5</td>\n",
              "      <td>PAIDOFF</td>\n",
              "      <td>300</td>\n",
              "      <td>7</td>\n",
              "      <td>9/9/2016</td>\n",
              "      <td>9/15/2016</td>\n",
              "      <td>35</td>\n",
              "      <td>Master or Above</td>\n",
              "      <td>male</td>\n",
              "    </tr>\n",
              "    <tr>\n",
              "      <th>2</th>\n",
              "      <td>21</td>\n",
              "      <td>21</td>\n",
              "      <td>PAIDOFF</td>\n",
              "      <td>1000</td>\n",
              "      <td>30</td>\n",
              "      <td>9/10/2016</td>\n",
              "      <td>10/9/2016</td>\n",
              "      <td>43</td>\n",
              "      <td>High School or Below</td>\n",
              "      <td>female</td>\n",
              "    </tr>\n",
              "    <tr>\n",
              "      <th>3</th>\n",
              "      <td>24</td>\n",
              "      <td>24</td>\n",
              "      <td>PAIDOFF</td>\n",
              "      <td>1000</td>\n",
              "      <td>30</td>\n",
              "      <td>9/10/2016</td>\n",
              "      <td>10/9/2016</td>\n",
              "      <td>26</td>\n",
              "      <td>college</td>\n",
              "      <td>male</td>\n",
              "    </tr>\n",
              "    <tr>\n",
              "      <th>4</th>\n",
              "      <td>35</td>\n",
              "      <td>35</td>\n",
              "      <td>PAIDOFF</td>\n",
              "      <td>800</td>\n",
              "      <td>15</td>\n",
              "      <td>9/11/2016</td>\n",
              "      <td>9/25/2016</td>\n",
              "      <td>29</td>\n",
              "      <td>Bechalor</td>\n",
              "      <td>male</td>\n",
              "    </tr>\n",
              "  </tbody>\n",
              "</table>\n",
              "</div>"
            ],
            "text/plain": [
              "   Unnamed: 0  Unnamed: 0.1 loan_status  Principal  terms effective_date  \\\n",
              "0           1             1     PAIDOFF       1000     30       9/8/2016   \n",
              "1           5             5     PAIDOFF        300      7       9/9/2016   \n",
              "2          21            21     PAIDOFF       1000     30      9/10/2016   \n",
              "3          24            24     PAIDOFF       1000     30      9/10/2016   \n",
              "4          35            35     PAIDOFF        800     15      9/11/2016   \n",
              "\n",
              "    due_date  age             education  Gender  \n",
              "0  10/7/2016   50              Bechalor  female  \n",
              "1  9/15/2016   35       Master or Above    male  \n",
              "2  10/9/2016   43  High School or Below  female  \n",
              "3  10/9/2016   26               college    male  \n",
              "4  9/25/2016   29              Bechalor    male  "
            ]
          },
          "metadata": {
            "tags": []
          },
          "execution_count": 36
        }
      ]
    },
    {
      "cell_type": "code",
      "metadata": {
        "id": "-pnGa6jNnFNS",
        "colab_type": "code",
        "colab": {}
      },
      "source": [
        "# Convert Categorical features to numerical values\n",
        "\n",
        "df_test['effective_date'] = pd.to_datetime(df_test['effective_date'])\n",
        "df_test['dayofweek'] = df_test['effective_date'].dt.dayofweek\n",
        "df_test['weekend'] = df_test['dayofweek'].apply(lambda x: 1 if (x > 3) else 0)\n",
        "df_test['Gender'].replace(to_replace=['male', 'female'], value=[0, 1], inplace=True)\n",
        "\n",
        "Features_test = df_test[['Principal', 'terms', 'age', 'Gender', 'weekend']]\n",
        "Features_test = pd.concat([Features_test, pd.get_dummies(df_test['education'])], axis=1)\n",
        "Features_test.drop(['Master or Above'], axis=1, inplace=True)\n",
        "\n",
        "X_test = Features_test.values\n",
        "X_test = preprocessing.StandardScaler().fit(X).transform(X_test.astype(float))\n",
        "y_test = df_test['loan_status'].values"
      ],
      "execution_count": 0,
      "outputs": []
    },
    {
      "cell_type": "code",
      "metadata": {
        "id": "-W4SffKAoLw7",
        "colab_type": "code",
        "colab": {}
      },
      "source": [
        "# Model Evaluation using Test set\n",
        "\n",
        "from sklearn.metrics import jaccard_similarity_score\n",
        "from sklearn.metrics import f1_score\n",
        "from sklearn.metrics import log_loss"
      ],
      "execution_count": 0,
      "outputs": []
    },
    {
      "cell_type": "code",
      "metadata": {
        "id": "K4WRvrzhoat8",
        "colab_type": "code",
        "colab": {
          "base_uri": "https://localhost:8080/",
          "height": 51
        },
        "outputId": "d2923f2c-605b-4706-ba03-6610424b1661"
      },
      "source": [
        "# Evaluating the KNN model\n",
        "yhat_KNN = neigh_n.predict(X_test)\n",
        "print(\"KNN's Jaccard score is: %.4f\" % jaccard_similarity_score(y_test, yhat_KNN))\n",
        "print(\"KNN's Avg f1-score is: %.4f\" % f1_score(y_test, yhat_KNN, average='weighted'))"
      ],
      "execution_count": 39,
      "outputs": [
        {
          "output_type": "stream",
          "text": [
            "KNN's Jaccard score is: 0.7222\n",
            "KNN's Avg f1-score is: 0.6705\n"
          ],
          "name": "stdout"
        }
      ]
    },
    {
      "cell_type": "code",
      "metadata": {
        "id": "CT_F0pc7wx3w",
        "colab_type": "code",
        "colab": {
          "base_uri": "https://localhost:8080/",
          "height": 515
        },
        "outputId": "7e36a97f-c0cc-4ed5-f021-1d6e56a8e714"
      },
      "source": [
        "# This function prints and plots the confusion matrix. Normalization can be applied by setting 'normalize=True'.\n",
        "\n",
        "from sklearn.metrics import classification_report, confusion_matrix\n",
        "import itertools\n",
        "\n",
        "def plot_confusion_matrix(cm, classes,\n",
        "                          normalize=False,\n",
        "                          title='Confusion matrix',\n",
        "                          cmap=plt.cm.Blues):\n",
        "\n",
        "    if normalize:\n",
        "        cm = cm.astype('float') / cm.sum(axis=1)[:, np.newaxis]\n",
        "        print(\"Normalized confusion matrix\")\n",
        "    else:\n",
        "        print('Confusion matrix, without normalization')\n",
        "\n",
        "    print(cm)\n",
        "\n",
        "    plt.imshow(cm, interpolation='nearest', cmap=cmap)\n",
        "    plt.title(title)\n",
        "    plt.colorbar()\n",
        "    tick_marks = np.arange(len(classes))\n",
        "    plt.xticks(tick_marks, classes, rotation=45)\n",
        "    plt.yticks(tick_marks, classes)\n",
        "\n",
        "    fmt = '.2f' if normalize else 'd'\n",
        "    thresh = cm.max() / 2.\n",
        "    for i, j in itertools.product(range(cm.shape[0]), range(cm.shape[1])):\n",
        "        plt.text(j, i, format(cm[i, j], fmt),\n",
        "                 horizontalalignment=\"center\",\n",
        "                 color=\"white\" if cm[i, j] > thresh else \"black\")\n",
        "\n",
        "    plt.tight_layout()\n",
        "    plt.ylabel('True label')\n",
        "    plt.xlabel('Predicted label')\n",
        "\n",
        "np.set_printoptions(precision=2)\n",
        "# Plot non-normalized confusion matrix\n",
        "cnf_matrix = confusion_matrix(y_test, yhat_KNN, labels=['PAIDOFF','COLLECTION'])\n",
        "plot_confusion_matrix(cnf_matrix, classes=['PAIDOFF','COLLECTION'], normalize=False, title='Confusion matrix, without normalization')\n",
        "plt.show()\n",
        "\n",
        "# Build a text report showing the main classification metrics\n",
        "print(classification_report(y_test, yhat_KNN))"
      ],
      "execution_count": 40,
      "outputs": [
        {
          "output_type": "stream",
          "text": [
            "Confusion matrix, without normalization\n",
            "[[37  3]\n",
            " [12  2]]\n"
          ],
          "name": "stdout"
        },
        {
          "output_type": "display_data",
          "data": {
            "image/png": "[encoded data removed]",
            "text/plain": [
              "<Figure size 432x288 with 2 Axes>"
            ]
          },
          "metadata": {
            "tags": []
          }
        },
        {
          "output_type": "stream",
          "text": [
            "              precision    recall  f1-score   support\n",
            "\n",
            "  COLLECTION       0.40      0.14      0.21        14\n",
            "     PAIDOFF       0.76      0.93      0.83        40\n",
            "\n",
            "   micro avg       0.72      0.72      0.72        54\n",
            "   macro avg       0.58      0.53      0.52        54\n",
            "weighted avg       0.66      0.72      0.67        54\n",
            "\n"
          ],
          "name": "stdout"
        }
      ]
    },
    {
      "cell_type": "code",
      "metadata": {
        "id": "Fez3ah-uolG9",
        "colab_type": "code",
        "colab": {
          "base_uri": "https://localhost:8080/",
          "height": 85
        },
        "outputId": "9037b56f-a938-41d8-9a50-39deed916ffe"
      },
      "source": [
        "# Evaluating the Decision Tree model\n",
        "yhat_Tree = loan_tree.predict(X_test)\n",
        "print(\"DecisionTrees's Jaccard score: %.4f\" % jaccard_similarity_score(y_test, yhat_Tree))\n",
        "print(\"DecisionTrees's Avg f1-score: %.4f\" % f1_score(y_test, yhat_Tree, average='weighted'))"
      ],
      "execution_count": 41,
      "outputs": [
        {
          "output_type": "stream",
          "text": [
            "DecisionTrees's Jaccard score: 0.7407\n",
            "DecisionTrees's Avg f1-score: 0.6304\n"
          ],
          "name": "stdout"
        },
        {
          "output_type": "stream",
          "text": [
            "/usr/local/lib/python3.6/dist-packages/sklearn/metrics/classification.py:1143: UndefinedMetricWarning: F-score is ill-defined and being set to 0.0 in labels with no predicted samples.\n",
            "  'precision', 'predicted', average, warn_for)\n"
          ],
          "name": "stderr"
        }
      ]
    },
    {
      "cell_type": "code",
      "metadata": {
        "id": "RF37cYb0yAtM",
        "colab_type": "code",
        "colab": {
          "base_uri": "https://localhost:8080/",
          "height": 872
        },
        "outputId": "6916a7b5-48f9-476c-d847-72717f318720"
      },
      "source": [
        "cnf_matrix = confusion_matrix(y_test, yhat_Tree, labels=['PAIDOFF','COLLECTION'])\n",
        "np.set_printoptions(precision=2)\n",
        "\n",
        "print(classification_report(y_test, yhat_Tree))\n",
        "\n",
        "plt.figure()\n",
        "plot_confusion_matrix(cnf_matrix, classes=['PAIDOFF','COLLECTION'], normalize=False, title='Confusion matrix')\n",
        "plt.show()\n",
        "\n",
        "# Build a text report showing the main classification metrics\n",
        "print(classification_report(y_test, yhat_Tree))"
      ],
      "execution_count": 42,
      "outputs": [
        {
          "output_type": "stream",
          "text": [
            "              precision    recall  f1-score   support\n",
            "\n",
            "  COLLECTION       0.00      0.00      0.00        14\n",
            "     PAIDOFF       0.74      1.00      0.85        40\n",
            "\n",
            "   micro avg       0.74      0.74      0.74        54\n",
            "   macro avg       0.37      0.50      0.43        54\n",
            "weighted avg       0.55      0.74      0.63        54\n",
            "\n",
            "Confusion matrix, without normalization\n",
            "[[40  0]\n",
            " [14  0]]\n"
          ],
          "name": "stdout"
        },
        {
          "output_type": "stream",
          "text": [
            "/usr/local/lib/python3.6/dist-packages/sklearn/metrics/classification.py:1143: UndefinedMetricWarning: Precision and F-score are ill-defined and being set to 0.0 in labels with no predicted samples.\n",
            "  'precision', 'predicted', average, warn_for)\n",
            "/usr/local/lib/python3.6/dist-packages/sklearn/metrics/classification.py:1143: UndefinedMetricWarning: Precision and F-score are ill-defined and being set to 0.0 in labels with no predicted samples.\n",
            "  'precision', 'predicted', average, warn_for)\n",
            "/usr/local/lib/python3.6/dist-packages/sklearn/metrics/classification.py:1143: UndefinedMetricWarning: Precision and F-score are ill-defined and being set to 0.0 in labels with no predicted samples.\n",
            "  'precision', 'predicted', average, warn_for)\n"
          ],
          "name": "stderr"
        },
        {
          "output_type": "display_data",
          "data": {
            "image/png": "[encoded data removed]",
            "text/plain": [
              "<Figure size 432x288 with 2 Axes>"
            ]
          },
          "metadata": {
            "tags": []
          }
        },
        {
          "output_type": "stream",
          "text": [
            "              precision    recall  f1-score   support\n",
            "\n",
            "  COLLECTION       0.00      0.00      0.00        14\n",
            "     PAIDOFF       0.74      1.00      0.85        40\n",
            "\n",
            "   micro avg       0.74      0.74      0.74        54\n",
            "   macro avg       0.37      0.50      0.43        54\n",
            "weighted avg       0.55      0.74      0.63        54\n",
            "\n"
          ],
          "name": "stdout"
        },
        {
          "output_type": "stream",
          "text": [
            "/usr/local/lib/python3.6/dist-packages/sklearn/metrics/classification.py:1143: UndefinedMetricWarning: Precision and F-score are ill-defined and being set to 0.0 in labels with no predicted samples.\n",
            "  'precision', 'predicted', average, warn_for)\n",
            "/usr/local/lib/python3.6/dist-packages/sklearn/metrics/classification.py:1143: UndefinedMetricWarning: Precision and F-score are ill-defined and being set to 0.0 in labels with no predicted samples.\n",
            "  'precision', 'predicted', average, warn_for)\n",
            "/usr/local/lib/python3.6/dist-packages/sklearn/metrics/classification.py:1143: UndefinedMetricWarning: Precision and F-score are ill-defined and being set to 0.0 in labels with no predicted samples.\n",
            "  'precision', 'predicted', average, warn_for)\n"
          ],
          "name": "stderr"
        }
      ]
    },
    {
      "cell_type": "code",
      "metadata": {
        "id": "u_DvLjVxowrn",
        "colab_type": "code",
        "colab": {
          "base_uri": "https://localhost:8080/",
          "height": 102
        },
        "outputId": "9d15d852-a9b5-452d-d1c0-ca69b84949a4"
      },
      "source": [
        "# Evaluating the Logistic Regression model\n",
        "yhat_LR = loanLR.predict(X_test)\n",
        "yhat_LR_prob = loanLR.predict_proba(X_test)\n",
        "print(\"LR's Jaccard score is: %.4f\" % jaccard_similarity_score(y_test, yhat_LR))\n",
        "print(\"LR's Avg f1-score is: %.4f\" % f1_score(y_test, yhat_LR, average='weighted'))\n",
        "print(\"LR's LogLoss is: : %.4f\" % log_loss(y_test, yhat_LR_prob))"
      ],
      "execution_count": 43,
      "outputs": [
        {
          "output_type": "stream",
          "text": [
            "LR's Jaccard score is: 0.7407\n",
            "LR's Avg f1-score is: 0.6304\n",
            "LR's LogLoss is: : 0.5828\n"
          ],
          "name": "stdout"
        },
        {
          "output_type": "stream",
          "text": [
            "/usr/local/lib/python3.6/dist-packages/sklearn/metrics/classification.py:1143: UndefinedMetricWarning: F-score is ill-defined and being set to 0.0 in labels with no predicted samples.\n",
            "  'precision', 'predicted', average, warn_for)\n"
          ],
          "name": "stderr"
        }
      ]
    },
    {
      "cell_type": "code",
      "metadata": {
        "id": "LpHkST8cyKlD",
        "colab_type": "code",
        "colab": {
          "base_uri": "https://localhost:8080/",
          "height": 872
        },
        "outputId": "57199ccc-f58d-47cd-e6ff-77406611ef1c"
      },
      "source": [
        "cnf_matrix = confusion_matrix(y_test, yhat_LR, labels=['PAIDOFF','COLLECTION'])\n",
        "np.set_printoptions(precision=2)\n",
        "\n",
        "print(classification_report(y_test, yhat_LR))\n",
        "\n",
        "plt.figure()\n",
        "plot_confusion_matrix(cnf_matrix, classes=['PAIDOFF','COLLECTION'], normalize=False, title='Confusion matrix')\n",
        "plt.show()\n",
        "\n",
        "# Build a text report showing the main classification metrics\n",
        "print(classification_report(y_test, yhat_LR))"
      ],
      "execution_count": 44,
      "outputs": [
        {
          "output_type": "stream",
          "text": [
            "/usr/local/lib/python3.6/dist-packages/sklearn/metrics/classification.py:1143: UndefinedMetricWarning: Precision and F-score are ill-defined and being set to 0.0 in labels with no predicted samples.\n",
            "  'precision', 'predicted', average, warn_for)\n",
            "/usr/local/lib/python3.6/dist-packages/sklearn/metrics/classification.py:1143: UndefinedMetricWarning: Precision and F-score are ill-defined and being set to 0.0 in labels with no predicted samples.\n",
            "  'precision', 'predicted', average, warn_for)\n",
            "/usr/local/lib/python3.6/dist-packages/sklearn/metrics/classification.py:1143: UndefinedMetricWarning: Precision and F-score are ill-defined and being set to 0.0 in labels with no predicted samples.\n",
            "  'precision', 'predicted', average, warn_for)\n"
          ],
          "name": "stderr"
        },
        {
          "output_type": "stream",
          "text": [
            "              precision    recall  f1-score   support\n",
            "\n",
            "  COLLECTION       0.00      0.00      0.00        14\n",
            "     PAIDOFF       0.74      1.00      0.85        40\n",
            "\n",
            "   micro avg       0.74      0.74      0.74        54\n",
            "   macro avg       0.37      0.50      0.43        54\n",
            "weighted avg       0.55      0.74      0.63        54\n",
            "\n",
            "Confusion matrix, without normalization\n",
            "[[40  0]\n",
            " [14  0]]\n"
          ],
          "name": "stdout"
        },
        {
          "output_type": "display_data",
          "data": {
            "image/png": "[encoded data removed]",
            "text/plain": [
              "<Figure size 432x288 with 2 Axes>"
            ]
          },
          "metadata": {
            "tags": []
          }
        },
        {
          "output_type": "stream",
          "text": [
            "              precision    recall  f1-score   support\n",
            "\n",
            "  COLLECTION       0.00      0.00      0.00        14\n",
            "     PAIDOFF       0.74      1.00      0.85        40\n",
            "\n",
            "   micro avg       0.74      0.74      0.74        54\n",
            "   macro avg       0.37      0.50      0.43        54\n",
            "weighted avg       0.55      0.74      0.63        54\n",
            "\n"
          ],
          "name": "stdout"
        },
        {
          "output_type": "stream",
          "text": [
            "/usr/local/lib/python3.6/dist-packages/sklearn/metrics/classification.py:1143: UndefinedMetricWarning: Precision and F-score are ill-defined and being set to 0.0 in labels with no predicted samples.\n",
            "  'precision', 'predicted', average, warn_for)\n",
            "/usr/local/lib/python3.6/dist-packages/sklearn/metrics/classification.py:1143: UndefinedMetricWarning: Precision and F-score are ill-defined and being set to 0.0 in labels with no predicted samples.\n",
            "  'precision', 'predicted', average, warn_for)\n",
            "/usr/local/lib/python3.6/dist-packages/sklearn/metrics/classification.py:1143: UndefinedMetricWarning: Precision and F-score are ill-defined and being set to 0.0 in labels with no predicted samples.\n",
            "  'precision', 'predicted', average, warn_for)\n"
          ],
          "name": "stderr"
        }
      ]
    },
    {
      "cell_type": "code",
      "metadata": {
        "id": "xGy8Fb5TpObm",
        "colab_type": "code",
        "colab": {
          "base_uri": "https://localhost:8080/",
          "height": 51
        },
        "outputId": "48955dcc-e1d7-4afc-8fc3-e05a767096a1"
      },
      "source": [
        "# Evaluating the SVC model\n",
        "yhat_SVM = loanSVC.predict(X_test)\n",
        "print(\"SVM's Jaccard score is: %.4f\" % jaccard_similarity_score(y_test, yhat_SVM))\n",
        "print(\"SVM's Avg f1-score is: %.4f\" % f1_score(y_test, yhat_SVM, average='weighted'))"
      ],
      "execution_count": 45,
      "outputs": [
        {
          "output_type": "stream",
          "text": [
            "SVM's Jaccard score is: 0.7593\n",
            "SVM's Avg f1-score is: 0.6718\n"
          ],
          "name": "stdout"
        }
      ]
    },
    {
      "cell_type": "code",
      "metadata": {
        "id": "OcfFtwD8yOgx",
        "colab_type": "code",
        "colab": {
          "base_uri": "https://localhost:8080/",
          "height": 668
        },
        "outputId": "acfef99a-a4ee-4077-dc18-63ed3f24d997"
      },
      "source": [
        "cnf_matrix = confusion_matrix(y_test, yhat_SVM, labels=['PAIDOFF','COLLECTION'])\n",
        "np.set_printoptions(precision=2)\n",
        "\n",
        "print(classification_report(y_test, yhat_SVM))\n",
        "\n",
        "plt.figure()\n",
        "plot_confusion_matrix(cnf_matrix, classes=['PAIDOFF','COLLECTION'], normalize=False, title='Confusion matrix')\n",
        "plt.show()\n",
        "\n",
        "# Build a text report showing the main classification metrics\n",
        "print(classification_report(y_test, yhat_SVM))"
      ],
      "execution_count": 46,
      "outputs": [
        {
          "output_type": "stream",
          "text": [
            "              precision    recall  f1-score   support\n",
            "\n",
            "  COLLECTION       1.00      0.07      0.13        14\n",
            "     PAIDOFF       0.75      1.00      0.86        40\n",
            "\n",
            "   micro avg       0.76      0.76      0.76        54\n",
            "   macro avg       0.88      0.54      0.50        54\n",
            "weighted avg       0.82      0.76      0.67        54\n",
            "\n",
            "Confusion matrix, without normalization\n",
            "[[40  0]\n",
            " [13  1]]\n"
          ],
          "name": "stdout"
        },
        {
          "output_type": "display_data",
          "data": {
            "image/png": "[encoded data removed]",
            "text/plain": [
              "<Figure size 432x288 with 2 Axes>"
            ]
          },
          "metadata": {
            "tags": []
          }
        },
        {
          "output_type": "stream",
          "text": [
            "              precision    recall  f1-score   support\n",
            "\n",
            "  COLLECTION       1.00      0.07      0.13        14\n",
            "     PAIDOFF       0.75      1.00      0.86        40\n",
            "\n",
            "   micro avg       0.76      0.76      0.76        54\n",
            "   macro avg       0.88      0.54      0.50        54\n",
            "weighted avg       0.82      0.76      0.67        54\n",
            "\n"
          ],
          "name": "stdout"
        }
      ]
    },
    {
      "cell_type": "code",
      "metadata": {
        "id": "C_3AKCyeqBRk",
        "colab_type": "code",
        "colab": {}
      },
      "source": [
        "# Report\n",
        "# We are able to report the accuracy of the built model using different evaluation metrics:\n",
        "\n",
        "# | Algorithm          | Jaccard | F1-score | LogLoss |\n",
        "# |--------------------|---------|----------|---------|\n",
        "# | KNN                | 0.7222  | 0.6705   | NA      |\n",
        "# | Decision Tree      | 0.7407  | 0.6304   | NA      |\n",
        "# | SVM                | 0.7593  | 0.6718   | NA      |\n",
        "# | LogisticRegression | 0.7407  | 0.6304   | 0.5828  |"
      ],
      "execution_count": 0,
      "outputs": []
    }
  ]
}