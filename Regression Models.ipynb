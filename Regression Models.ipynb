{
 "cells": [
  {
   "cell_type": "code",
   "execution_count": 1,
   "metadata": {},
   "outputs": [],
   "source": [
    "import matplotlib.pyplot as plt\n",
    "import pandas as pd\n",
    "import numpy as np\n",
    "%matplotlib inline"
   ]
  },
  {
   "cell_type": "code",
   "execution_count": 2,
   "metadata": {},
   "outputs": [],
   "source": [
    "# The path to the CSV file containing the the features of 1067 cars\n",
    "path=\"https://s3-api.us-geo.objectstorage.softlayer.net/cf-courses-data/CognitiveClass/ML0101ENv3/labs/FuelConsumptionCo2.csv\""
   ]
  },
  {
   "cell_type": "code",
   "execution_count": 3,
   "metadata": {},
   "outputs": [],
   "source": [
    "# Read the CSV file into a dataframe\n",
    "df = pd.read_csv(path)"
   ]
  },
  {
   "cell_type": "code",
   "execution_count": 4,
   "metadata": {},
   "outputs": [
    {
     "name": "stdout",
     "output_type": "stream",
     "text": [
      "   MODELYEAR   MAKE       MODEL VEHICLECLASS  ENGINESIZE  CYLINDERS  \\\n",
      "0       2014  ACURA         ILX      COMPACT         2.0          4   \n",
      "1       2014  ACURA         ILX      COMPACT         2.4          4   \n",
      "2       2014  ACURA  ILX HYBRID      COMPACT         1.5          4   \n",
      "3       2014  ACURA     MDX 4WD  SUV - SMALL         3.5          6   \n",
      "4       2014  ACURA     RDX AWD  SUV - SMALL         3.5          6   \n",
      "\n",
      "  TRANSMISSION FUELTYPE  FUELCONSUMPTION_CITY  FUELCONSUMPTION_HWY  \\\n",
      "0          AS5        Z                   9.9                  6.7   \n",
      "1           M6        Z                  11.2                  7.7   \n",
      "2          AV7        Z                   6.0                  5.8   \n",
      "3          AS6        Z                  12.7                  9.1   \n",
      "4          AS6        Z                  12.1                  8.7   \n",
      "\n",
      "   FUELCONSUMPTION_COMB  FUELCONSUMPTION_COMB_MPG  CO2EMISSIONS  \n",
      "0                   8.5                        33           196  \n",
      "1                   9.6                        29           221  \n",
      "2                   5.9                        48           136  \n",
      "3                  11.1                        25           255  \n",
      "4                  10.6                        27           244  \n"
     ]
    }
   ],
   "source": [
    "# Print the first five (5) rows of the dataframe\n",
    "print(df.head())"
   ]
  },
  {
   "cell_type": "code",
   "execution_count": null,
   "metadata": {},
   "outputs": [],
   "source": []
  },
  {
   "cell_type": "code",
   "execution_count": 5,
   "metadata": {},
   "outputs": [],
   "source": [
    "# First we make a copy of the dataframe with only the relevant information, i.e. ENGINESIZE, CYLINDERS, FUELCONSUMPTIOON_CITY, FUELCONSUMPTION_HWY AND CO2EMISSION.\n",
    "# We drop the FUELCONSUMPTION_COMB as it is not an independent variable by itself. It is a function of the other two fuel consumption rates.\n",
    "# We then standardize the data using the StandardScaler function.\n",
    "\n"
   ]
  },
  {
   "cell_type": "code",
   "execution_count": 6,
   "metadata": {},
   "outputs": [
    {
     "name": "stdout",
     "output_type": "stream",
     "text": [
      "                          MODELYEAR  ENGINESIZE  CYLINDERS  \\\n",
      "MODELYEAR                       NaN         NaN        NaN   \n",
      "ENGINESIZE                      NaN    1.000000   0.934011   \n",
      "CYLINDERS                       NaN    0.934011   1.000000   \n",
      "FUELCONSUMPTION_CITY            NaN    0.832225   0.796473   \n",
      "FUELCONSUMPTION_HWY             NaN    0.778746   0.724594   \n",
      "FUELCONSUMPTION_COMB            NaN    0.819482   0.776788   \n",
      "FUELCONSUMPTION_COMB_MPG        NaN   -0.808554  -0.770430   \n",
      "CO2EMISSIONS                    NaN    0.874154   0.849685   \n",
      "\n",
      "                          FUELCONSUMPTION_CITY  FUELCONSUMPTION_HWY  \\\n",
      "MODELYEAR                                  NaN                  NaN   \n",
      "ENGINESIZE                            0.832225             0.778746   \n",
      "CYLINDERS                             0.796473             0.724594   \n",
      "FUELCONSUMPTION_CITY                  1.000000             0.965718   \n",
      "FUELCONSUMPTION_HWY                   0.965718             1.000000   \n",
      "FUELCONSUMPTION_COMB                  0.995542             0.985804   \n",
      "FUELCONSUMPTION_COMB_MPG             -0.935613            -0.893809   \n",
      "CO2EMISSIONS                          0.898039             0.861748   \n",
      "\n",
      "                          FUELCONSUMPTION_COMB  FUELCONSUMPTION_COMB_MPG  \\\n",
      "MODELYEAR                                  NaN                       NaN   \n",
      "ENGINESIZE                            0.819482                 -0.808554   \n",
      "CYLINDERS                             0.776788                 -0.770430   \n",
      "FUELCONSUMPTION_CITY                  0.995542                 -0.935613   \n",
      "FUELCONSUMPTION_HWY                   0.985804                 -0.893809   \n",
      "FUELCONSUMPTION_COMB                  1.000000                 -0.927965   \n",
      "FUELCONSUMPTION_COMB_MPG             -0.927965                  1.000000   \n",
      "CO2EMISSIONS                          0.892129                 -0.906394   \n",
      "\n",
      "                          CO2EMISSIONS  \n",
      "MODELYEAR                          NaN  \n",
      "ENGINESIZE                    0.874154  \n",
      "CYLINDERS                     0.849685  \n",
      "FUELCONSUMPTION_CITY          0.898039  \n",
      "FUELCONSUMPTION_HWY           0.861748  \n",
      "FUELCONSUMPTION_COMB          0.892129  \n",
      "FUELCONSUMPTION_COMB_MPG     -0.906394  \n",
      "CO2EMISSIONS                  1.000000  \n"
     ]
    }
   ],
   "source": [
    "# Print the correlation matrix of the dataframe\n",
    "print(df.corr())"
   ]
  },
  {
   "cell_type": "code",
   "execution_count": 7,
   "metadata": {},
   "outputs": [
    {
     "data": {
      "image/png": "[encoded data removed]",
      "text/plain": [
       "<Figure size 432x288 with 1 Axes>"
      ]
     },
     "metadata": {
      "needs_background": "light"
     },
     "output_type": "display_data"
    }
   ],
   "source": [
    "# As the correlation matrix shows, all of the car features listed here (except the model year) have significant impact on the car's CO2 emmision. As such all of these variables will be used as predictors for the regression model.\n",
    "\n",
    "# Let's first plot the CO2 emmision as a function of each of these variable to see whether the relationship is linear or not.\n",
    "\n",
    "fig1, ax1 = plt.subplots()\n",
    "plt.scatter(df[['ENGINESIZE']], df[['CO2EMISSIONS']])\n",
    "plt.xlabel('ENGINESIZE')\n",
    "plt.ylabel('CO2EMISSIONS')\n",
    "plt.show()"
   ]
  },
  {
   "cell_type": "code",
   "execution_count": 8,
   "metadata": {},
   "outputs": [
    {
     "data": {
      "image/png": "[encoded data removed]",
      "text/plain": [
       "<Figure size 432x288 with 1 Axes>"
      ]
     },
     "metadata": {
      "needs_background": "light"
     },
     "output_type": "display_data"
    }
   ],
   "source": [
    "fig2, ax2 = plt.subplots()\n",
    "plt.scatter(df[['CYLINDERS']], df[['CO2EMISSIONS']])\n",
    "plt.xlabel('CYLINDERS')\n",
    "plt.ylabel('CO2EMISSIONS')\n",
    "plt.show()"
   ]
  },
  {
   "cell_type": "code",
   "execution_count": 9,
   "metadata": {},
   "outputs": [
    {
     "data": {
      "image/png": "[encoded data removed]",
      "text/plain": [
       "<Figure size 432x288 with 1 Axes>"
      ]
     },
     "metadata": {
      "needs_background": "light"
     },
     "output_type": "display_data"
    }
   ],
   "source": [
    "fig2, ax2 = plt.subplots()\n",
    "plt.scatter(df[['CYLINDERS']], df[['CO2EMISSIONS']])\n",
    "plt.xlabel('CYLINDERS')\n",
    "plt.ylabel('CO2EMISSIONS')\n",
    "plt.show()"
   ]
  },
  {
   "cell_type": "code",
   "execution_count": null,
   "metadata": {},
   "outputs": [],
   "source": []
  }
 ],
 "metadata": {
  "kernelspec": {
   "display_name": "Python 3",
   "language": "python",
   "name": "python3"
  },
  "language_info": {
   "codemirror_mode": {
    "name": "ipython",
    "version": 3
   },
   "file_extension": ".py",
   "mimetype": "text/x-python",
   "name": "python",
   "nbconvert_exporter": "python",
   "pygments_lexer": "ipython3",
   "version": "3.6.7"
  }
 },
 "nbformat": 4,
 "nbformat_minor": 2
}
